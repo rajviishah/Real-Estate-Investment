{
  "nbformat": 4,
  "nbformat_minor": 0,
  "metadata": {
    "colab": {
      "name": "CMPE 257 - HW6 - Part 2.ipynb",
      "provenance": [],
      "mount_file_id": "1QrGbOfm19TWLHkr1GhtXEfeQv0hAeTfo",
      "authorship_tag": "ABX9TyPdHVE7SR+DLmGEMfoYLh0H",
      "include_colab_link": true
    },
    "kernelspec": {
      "name": "python3",
      "display_name": "Python 3"
    },
    "language_info": {
      "name": "python"
    }
  },
  "cells": [
    {
      "cell_type": "markdown",
      "metadata": {
        "id": "view-in-github",
        "colab_type": "text"
      },
      "source": [
        "<a href=\"https://colab.research.google.com/github/rajviishah/Real-Estate-Investment/blob/main/Regression-DownSampling/Regression-Muller-Loop-Smogn.ipynb\" target=\"_parent\"><img src=\"https://colab.research.google.com/assets/colab-badge.svg\" alt=\"Open In Colab\"/></a>"
      ]
    },
    {
      "cell_type": "code",
      "execution_count": null,
      "metadata": {
        "id": "OUVw0Nao-FYj"
      },
      "outputs": [],
      "source": [
        "#downsampling using smogn\n",
        "#https://datascience.stackexchange.com/questions/69085/smote-for-regression\n",
        "#https://github.com/nickkunz/smogn"
      ]
    },
    {
      "cell_type": "code",
      "source": [
        "!pip install smogn"
      ],
      "metadata": {
        "colab": {
          "base_uri": "https://localhost:8080/"
        },
        "id": "jzDh2Yz2-aEu",
        "outputId": "cc74bedc-014f-46d1-b923-6542fd0797a8"
      },
      "execution_count": 1,
      "outputs": [
        {
          "output_type": "stream",
          "name": "stdout",
          "text": [
            "Collecting smogn\n",
            "  Downloading smogn-0.1.2-py3-none-any.whl (30 kB)\n",
            "Requirement already satisfied: pandas in /usr/local/lib/python3.7/dist-packages (from smogn) (1.3.5)\n",
            "Requirement already satisfied: numpy in /usr/local/lib/python3.7/dist-packages (from smogn) (1.21.5)\n",
            "Requirement already satisfied: tqdm in /usr/local/lib/python3.7/dist-packages (from smogn) (4.63.0)\n",
            "Requirement already satisfied: python-dateutil>=2.7.3 in /usr/local/lib/python3.7/dist-packages (from pandas->smogn) (2.8.2)\n",
            "Requirement already satisfied: pytz>=2017.3 in /usr/local/lib/python3.7/dist-packages (from pandas->smogn) (2018.9)\n",
            "Requirement already satisfied: six>=1.5 in /usr/local/lib/python3.7/dist-packages (from python-dateutil>=2.7.3->pandas->smogn) (1.15.0)\n",
            "Installing collected packages: smogn\n",
            "Successfully installed smogn-0.1.2\n"
          ]
        }
      ]
    },
    {
      "cell_type": "code",
      "source": [
        "!pip install git+https://github.com/nickkunz/smogn.git"
      ],
      "metadata": {
        "colab": {
          "base_uri": "https://localhost:8080/"
        },
        "id": "jg4I8kFE-LfN",
        "outputId": "39186a6c-af18-4a91-def6-9e34fed089d3"
      },
      "execution_count": 2,
      "outputs": [
        {
          "output_type": "stream",
          "name": "stdout",
          "text": [
            "Collecting git+https://github.com/nickkunz/smogn.git\n",
            "  Cloning https://github.com/nickkunz/smogn.git to /tmp/pip-req-build-w_6_8cu9\n",
            "  Running command git clone -q https://github.com/nickkunz/smogn.git /tmp/pip-req-build-w_6_8cu9\n",
            "Requirement already satisfied: numpy in /usr/local/lib/python3.7/dist-packages (from smogn==0.1.1) (1.21.5)\n",
            "Requirement already satisfied: pandas in /usr/local/lib/python3.7/dist-packages (from smogn==0.1.1) (1.3.5)\n",
            "Requirement already satisfied: tqdm in /usr/local/lib/python3.7/dist-packages (from smogn==0.1.1) (4.63.0)\n",
            "Requirement already satisfied: pytz>=2017.3 in /usr/local/lib/python3.7/dist-packages (from pandas->smogn==0.1.1) (2018.9)\n",
            "Requirement already satisfied: python-dateutil>=2.7.3 in /usr/local/lib/python3.7/dist-packages (from pandas->smogn==0.1.1) (2.8.2)\n",
            "Requirement already satisfied: six>=1.5 in /usr/local/lib/python3.7/dist-packages (from python-dateutil>=2.7.3->pandas->smogn==0.1.1) (1.15.0)\n",
            "Building wheels for collected packages: smogn\n",
            "  Building wheel for smogn (setup.py) ... \u001b[?25l\u001b[?25hdone\n",
            "  Created wheel for smogn: filename=smogn-0.1.1-py3-none-any.whl size=30364 sha256=aac5f248f2fd7d8abcdc9375bc3dbfbf76cb66c9d1a270304c8d99ca125a87c0\n",
            "  Stored in directory: /tmp/pip-ephem-wheel-cache-_rgzuw5v/wheels/31/bb/2b/423f632f38f777fa7f7bd73085e546acf69c233b08a4466a1c\n",
            "Successfully built smogn\n",
            "Installing collected packages: smogn\n",
            "  Attempting uninstall: smogn\n",
            "    Found existing installation: smogn 0.1.2\n",
            "    Uninstalling smogn-0.1.2:\n",
            "      Successfully uninstalled smogn-0.1.2\n",
            "Successfully installed smogn-0.1.1\n"
          ]
        }
      ]
    },
    {
      "cell_type": "code",
      "source": [
        "%%capture\n",
        "import smogn\n",
        "import pandas\n",
        "import seaborn"
      ],
      "metadata": {
        "id": "Dt8RcdqE-YUx"
      },
      "execution_count": 3,
      "outputs": []
    },
    {
      "cell_type": "code",
      "source": [
        "import time\n",
        "import pandas as pd\n",
        "import numpy as np\n",
        "from matplotlib import pyplot\n",
        "from sklearn.metrics import confusion_matrix\n",
        "from sklearn.model_selection import train_test_split\n",
        "from sklearn.neural_network import MLPRegressor\n",
        "from sklearn.ensemble import RandomForestRegressor\n",
        "from sklearn.neighbors import KNeighborsRegressor\n",
        "from sklearn.ensemble import GradientBoostingRegressor\n",
        "from sklearn.linear_model import LinearRegression\n",
        "from xgboost import XGBRegressor\n",
        "from sklearn.metrics import mean_squared_error\n",
        "from sklearn.metrics import mean_absolute_error\n",
        "from sklearn.metrics import r2_score"
      ],
      "metadata": {
        "id": "aL4FWv6F-hAl"
      },
      "execution_count": 20,
      "outputs": []
    },
    {
      "cell_type": "code",
      "source": [
        "housing = pd.read_csv(\"/content/drive/MyDrive/CMPE 257 - Project/sarjak_new_clean_train.csv\")"
      ],
      "metadata": {
        "id": "iA-fqtib-iSp"
      },
      "execution_count": 45,
      "outputs": []
    },
    {
      "cell_type": "code",
      "source": [
        "housing = housing.drop(['Unnamed: 0'], axis = 1)"
      ],
      "metadata": {
        "id": "Avj5X9H6_7mc"
      },
      "execution_count": 46,
      "outputs": []
    },
    {
      "cell_type": "code",
      "source": [
        "housing_smogn = smogn.smoter(\n",
        "    \n",
        "    data = housing,  ## pandas dataframe\n",
        "    y = 'SalePrice'  ## string ('header name')\n",
        ")"
      ],
      "metadata": {
        "colab": {
          "base_uri": "https://localhost:8080/"
        },
        "id": "p0oBWxkO-5c-",
        "outputId": "6ffe40a2-efa9-429f-b717-ae255667b257"
      },
      "execution_count": 47,
      "outputs": [
        {
          "output_type": "stream",
          "name": "stderr",
          "text": [
            "dist_matrix: 100%|##########| 215/215 [01:21<00:00,  2.63it/s]\n",
            "synth_matrix: 100%|##########| 215/215 [00:03<00:00, 66.38it/s]\n",
            "r_index: 100%|##########| 84/84 [00:00<00:00, 130.16it/s]\n"
          ]
        }
      ]
    },
    {
      "cell_type": "code",
      "source": [
        "## dimensions - original data \n",
        "housing.shape"
      ],
      "metadata": {
        "colab": {
          "base_uri": "https://localhost:8080/"
        },
        "id": "LYvEKr7u_EKs",
        "outputId": "031d908e-c83e-4cc5-ffe6-727762c7da02"
      },
      "execution_count": 24,
      "outputs": [
        {
          "output_type": "execute_result",
          "data": {
            "text/plain": [
              "(1460, 80)"
            ]
          },
          "metadata": {},
          "execution_count": 24
        }
      ]
    },
    {
      "cell_type": "code",
      "source": [
        "## dimensions - modified data\n",
        "housing_smogn.shape"
      ],
      "metadata": {
        "colab": {
          "base_uri": "https://localhost:8080/"
        },
        "id": "hNfdOqly_M0r",
        "outputId": "61d2d6ab-7dd3-41e4-d3d6-6dabf1273dcc"
      },
      "execution_count": 25,
      "outputs": [
        {
          "output_type": "execute_result",
          "data": {
            "text/plain": [
              "(1244, 80)"
            ]
          },
          "metadata": {},
          "execution_count": 25
        }
      ]
    },
    {
      "cell_type": "code",
      "source": [
        "#housing[housing.index.duplicated()]"
      ],
      "metadata": {
        "id": "xGHxexvs_zrO"
      },
      "execution_count": null,
      "outputs": []
    },
    {
      "cell_type": "code",
      "source": [
        "#housing.loc[~housing.index.duplicated(), :]"
      ],
      "metadata": {
        "id": "k-tGV4VoA7D9"
      },
      "execution_count": null,
      "outputs": []
    },
    {
      "cell_type": "code",
      "source": [
        "## plot y distribution \n",
        "##seaborn.kdeplot(housing['SalePrice'], label = \"Original\")\n",
        "#seaborn.kdeplot(housing_smogn['SalePrice'], label = \"Modified\")"
      ],
      "metadata": {
        "id": "qAxnIvnZ_OoE"
      },
      "execution_count": null,
      "outputs": []
    },
    {
      "cell_type": "code",
      "source": [
        "housing_smogn = housing_smogn.reset_index()"
      ],
      "metadata": {
        "id": "C1ByC4dCC1lr"
      },
      "execution_count": 48,
      "outputs": []
    },
    {
      "cell_type": "code",
      "source": [
        "#housing_smogn.replace([np.inf, -np.inf], np.nan, inplace=True)\n",
        "housing_smogn = np.nan_to_num(housing)"
      ],
      "metadata": {
        "id": "6uCC-L2YDHr6"
      },
      "execution_count": 12,
      "outputs": []
    },
    {
      "cell_type": "code",
      "source": [
        "normalized_X=(housing_smogn-housing_smogn.min())/(housing_smogn.max()-housing_smogn.min())\n",
        "normalized_X"
      ],
      "metadata": {
        "colab": {
          "base_uri": "https://localhost:8080/",
          "height": 488
        },
        "id": "gpvXrt2YfX6W",
        "outputId": "f1173d75-78b2-4b68-9ec6-8a87f3017baf"
      },
      "execution_count": 51,
      "outputs": [
        {
          "output_type": "execute_result",
          "data": {
            "text/plain": [
              "         index  MSZoning  Street  LotShape  LandContour  Utilities  LotConfig  \\\n",
              "0     0.000000      0.25     1.0       1.0          1.0        NaN        1.0   \n",
              "1     0.000686      0.25     1.0       1.0          1.0        NaN        1.0   \n",
              "2     0.001373      0.25     1.0       1.0          1.0        NaN        1.0   \n",
              "3     0.002059      0.25     1.0       1.0          1.0        NaN        1.0   \n",
              "4     0.002745      0.50     1.0       1.0          1.0        NaN        1.0   \n",
              "...        ...       ...     ...       ...          ...        ...        ...   \n",
              "1239  0.995882      0.75     1.0       1.0          1.0        NaN        1.0   \n",
              "1240  0.996568      1.00     1.0       1.0          1.0        NaN        1.0   \n",
              "1241  0.997941      0.25     1.0       1.0          1.0        NaN        1.0   \n",
              "1242  0.998627      0.75     1.0       1.0          1.0        NaN        1.0   \n",
              "1243  1.000000      0.75     1.0       1.0          1.0        NaN        1.0   \n",
              "\n",
              "      LandSlope  Neighborhood  Condition1  ...  ScreenPorch  PoolArea  \\\n",
              "0           0.0      0.875000        0.25  ...          0.0       0.0   \n",
              "1           0.0      0.875000        0.25  ...          0.0       0.0   \n",
              "2           0.0      0.750000        0.25  ...          0.0       0.0   \n",
              "3           0.0      0.875000        0.25  ...          0.0       0.0   \n",
              "4           0.0      0.875000        0.25  ...          0.0       0.0   \n",
              "...         ...           ...         ...  ...          ...       ...   \n",
              "1239        0.0      0.875000        0.25  ...          0.0       0.0   \n",
              "1240        0.0      0.291667        0.25  ...          0.0       0.0   \n",
              "1241        0.0      0.875000        0.25  ...          0.0       0.0   \n",
              "1242        0.0      0.333333        0.25  ...          0.0       0.0   \n",
              "1243        0.0      0.250000        0.25  ...          0.0       0.0   \n",
              "\n",
              "      MiscVal    MoSold  YrSold  SalePrice  Age_House  TotalBsmtBath  \\\n",
              "0     0.00000  0.454545     0.8   0.301557   0.007752       0.220910   \n",
              "1     0.00000  0.272727     0.8   0.301780   0.031008       0.000000   \n",
              "2     0.00000  0.727273     0.8   0.302945   0.007752       0.333333   \n",
              "3     0.00000  0.363636     0.8   0.301557   0.023256       0.041984   \n",
              "4     0.00000  0.181818     0.8   0.301780   0.031008       0.000000   \n",
              "...       ...       ...     ...        ...        ...            ...   \n",
              "1239  0.00000  0.363636     0.8   0.349844   0.007752       0.000000   \n",
              "1240  0.00000  0.363636     0.2   0.152412   0.007752       0.333333   \n",
              "1241  0.00000  0.818182     0.8   0.207991   0.038760       0.333333   \n",
              "1242  0.00000  0.636364     0.4   0.194096   0.062016       0.000000   \n",
              "1243  0.16129  0.363636     1.0   0.321235   0.534884       0.000000   \n",
              "\n",
              "      TotalBath   TotalSA  \n",
              "0      0.714286  0.334235  \n",
              "1      0.714286  0.367189  \n",
              "2      0.644745  0.310070  \n",
              "3      0.714286  0.359364  \n",
              "4      0.714286  0.370492  \n",
              "...         ...       ...  \n",
              "1239   0.571429  0.384450  \n",
              "1240   0.285714  0.131017  \n",
              "1241   0.571429  0.267163  \n",
              "1242   0.714286  0.293300  \n",
              "1243   0.571429  0.440860  \n",
              "\n",
              "[1244 rows x 81 columns]"
            ],
            "text/html": [
              "\n",
              "  <div id=\"df-36c0422d-40a1-414b-bf07-1a9d08cecac8\">\n",
              "    <div class=\"colab-df-container\">\n",
              "      <div>\n",
              "<style scoped>\n",
              "    .dataframe tbody tr th:only-of-type {\n",
              "        vertical-align: middle;\n",
              "    }\n",
              "\n",
              "    .dataframe tbody tr th {\n",
              "        vertical-align: top;\n",
              "    }\n",
              "\n",
              "    .dataframe thead th {\n",
              "        text-align: right;\n",
              "    }\n",
              "</style>\n",
              "<table border=\"1\" class=\"dataframe\">\n",
              "  <thead>\n",
              "    <tr style=\"text-align: right;\">\n",
              "      <th></th>\n",
              "      <th>index</th>\n",
              "      <th>MSZoning</th>\n",
              "      <th>Street</th>\n",
              "      <th>LotShape</th>\n",
              "      <th>LandContour</th>\n",
              "      <th>Utilities</th>\n",
              "      <th>LotConfig</th>\n",
              "      <th>LandSlope</th>\n",
              "      <th>Neighborhood</th>\n",
              "      <th>Condition1</th>\n",
              "      <th>...</th>\n",
              "      <th>ScreenPorch</th>\n",
              "      <th>PoolArea</th>\n",
              "      <th>MiscVal</th>\n",
              "      <th>MoSold</th>\n",
              "      <th>YrSold</th>\n",
              "      <th>SalePrice</th>\n",
              "      <th>Age_House</th>\n",
              "      <th>TotalBsmtBath</th>\n",
              "      <th>TotalBath</th>\n",
              "      <th>TotalSA</th>\n",
              "    </tr>\n",
              "  </thead>\n",
              "  <tbody>\n",
              "    <tr>\n",
              "      <th>0</th>\n",
              "      <td>0.000000</td>\n",
              "      <td>0.25</td>\n",
              "      <td>1.0</td>\n",
              "      <td>1.0</td>\n",
              "      <td>1.0</td>\n",
              "      <td>NaN</td>\n",
              "      <td>1.0</td>\n",
              "      <td>0.0</td>\n",
              "      <td>0.875000</td>\n",
              "      <td>0.25</td>\n",
              "      <td>...</td>\n",
              "      <td>0.0</td>\n",
              "      <td>0.0</td>\n",
              "      <td>0.00000</td>\n",
              "      <td>0.454545</td>\n",
              "      <td>0.8</td>\n",
              "      <td>0.301557</td>\n",
              "      <td>0.007752</td>\n",
              "      <td>0.220910</td>\n",
              "      <td>0.714286</td>\n",
              "      <td>0.334235</td>\n",
              "    </tr>\n",
              "    <tr>\n",
              "      <th>1</th>\n",
              "      <td>0.000686</td>\n",
              "      <td>0.25</td>\n",
              "      <td>1.0</td>\n",
              "      <td>1.0</td>\n",
              "      <td>1.0</td>\n",
              "      <td>NaN</td>\n",
              "      <td>1.0</td>\n",
              "      <td>0.0</td>\n",
              "      <td>0.875000</td>\n",
              "      <td>0.25</td>\n",
              "      <td>...</td>\n",
              "      <td>0.0</td>\n",
              "      <td>0.0</td>\n",
              "      <td>0.00000</td>\n",
              "      <td>0.272727</td>\n",
              "      <td>0.8</td>\n",
              "      <td>0.301780</td>\n",
              "      <td>0.031008</td>\n",
              "      <td>0.000000</td>\n",
              "      <td>0.714286</td>\n",
              "      <td>0.367189</td>\n",
              "    </tr>\n",
              "    <tr>\n",
              "      <th>2</th>\n",
              "      <td>0.001373</td>\n",
              "      <td>0.25</td>\n",
              "      <td>1.0</td>\n",
              "      <td>1.0</td>\n",
              "      <td>1.0</td>\n",
              "      <td>NaN</td>\n",
              "      <td>1.0</td>\n",
              "      <td>0.0</td>\n",
              "      <td>0.750000</td>\n",
              "      <td>0.25</td>\n",
              "      <td>...</td>\n",
              "      <td>0.0</td>\n",
              "      <td>0.0</td>\n",
              "      <td>0.00000</td>\n",
              "      <td>0.727273</td>\n",
              "      <td>0.8</td>\n",
              "      <td>0.302945</td>\n",
              "      <td>0.007752</td>\n",
              "      <td>0.333333</td>\n",
              "      <td>0.644745</td>\n",
              "      <td>0.310070</td>\n",
              "    </tr>\n",
              "    <tr>\n",
              "      <th>3</th>\n",
              "      <td>0.002059</td>\n",
              "      <td>0.25</td>\n",
              "      <td>1.0</td>\n",
              "      <td>1.0</td>\n",
              "      <td>1.0</td>\n",
              "      <td>NaN</td>\n",
              "      <td>1.0</td>\n",
              "      <td>0.0</td>\n",
              "      <td>0.875000</td>\n",
              "      <td>0.25</td>\n",
              "      <td>...</td>\n",
              "      <td>0.0</td>\n",
              "      <td>0.0</td>\n",
              "      <td>0.00000</td>\n",
              "      <td>0.363636</td>\n",
              "      <td>0.8</td>\n",
              "      <td>0.301557</td>\n",
              "      <td>0.023256</td>\n",
              "      <td>0.041984</td>\n",
              "      <td>0.714286</td>\n",
              "      <td>0.359364</td>\n",
              "    </tr>\n",
              "    <tr>\n",
              "      <th>4</th>\n",
              "      <td>0.002745</td>\n",
              "      <td>0.50</td>\n",
              "      <td>1.0</td>\n",
              "      <td>1.0</td>\n",
              "      <td>1.0</td>\n",
              "      <td>NaN</td>\n",
              "      <td>1.0</td>\n",
              "      <td>0.0</td>\n",
              "      <td>0.875000</td>\n",
              "      <td>0.25</td>\n",
              "      <td>...</td>\n",
              "      <td>0.0</td>\n",
              "      <td>0.0</td>\n",
              "      <td>0.00000</td>\n",
              "      <td>0.181818</td>\n",
              "      <td>0.8</td>\n",
              "      <td>0.301780</td>\n",
              "      <td>0.031008</td>\n",
              "      <td>0.000000</td>\n",
              "      <td>0.714286</td>\n",
              "      <td>0.370492</td>\n",
              "    </tr>\n",
              "    <tr>\n",
              "      <th>...</th>\n",
              "      <td>...</td>\n",
              "      <td>...</td>\n",
              "      <td>...</td>\n",
              "      <td>...</td>\n",
              "      <td>...</td>\n",
              "      <td>...</td>\n",
              "      <td>...</td>\n",
              "      <td>...</td>\n",
              "      <td>...</td>\n",
              "      <td>...</td>\n",
              "      <td>...</td>\n",
              "      <td>...</td>\n",
              "      <td>...</td>\n",
              "      <td>...</td>\n",
              "      <td>...</td>\n",
              "      <td>...</td>\n",
              "      <td>...</td>\n",
              "      <td>...</td>\n",
              "      <td>...</td>\n",
              "      <td>...</td>\n",
              "      <td>...</td>\n",
              "    </tr>\n",
              "    <tr>\n",
              "      <th>1239</th>\n",
              "      <td>0.995882</td>\n",
              "      <td>0.75</td>\n",
              "      <td>1.0</td>\n",
              "      <td>1.0</td>\n",
              "      <td>1.0</td>\n",
              "      <td>NaN</td>\n",
              "      <td>1.0</td>\n",
              "      <td>0.0</td>\n",
              "      <td>0.875000</td>\n",
              "      <td>0.25</td>\n",
              "      <td>...</td>\n",
              "      <td>0.0</td>\n",
              "      <td>0.0</td>\n",
              "      <td>0.00000</td>\n",
              "      <td>0.363636</td>\n",
              "      <td>0.8</td>\n",
              "      <td>0.349844</td>\n",
              "      <td>0.007752</td>\n",
              "      <td>0.000000</td>\n",
              "      <td>0.571429</td>\n",
              "      <td>0.384450</td>\n",
              "    </tr>\n",
              "    <tr>\n",
              "      <th>1240</th>\n",
              "      <td>0.996568</td>\n",
              "      <td>1.00</td>\n",
              "      <td>1.0</td>\n",
              "      <td>1.0</td>\n",
              "      <td>1.0</td>\n",
              "      <td>NaN</td>\n",
              "      <td>1.0</td>\n",
              "      <td>0.0</td>\n",
              "      <td>0.291667</td>\n",
              "      <td>0.25</td>\n",
              "      <td>...</td>\n",
              "      <td>0.0</td>\n",
              "      <td>0.0</td>\n",
              "      <td>0.00000</td>\n",
              "      <td>0.363636</td>\n",
              "      <td>0.2</td>\n",
              "      <td>0.152412</td>\n",
              "      <td>0.007752</td>\n",
              "      <td>0.333333</td>\n",
              "      <td>0.285714</td>\n",
              "      <td>0.131017</td>\n",
              "    </tr>\n",
              "    <tr>\n",
              "      <th>1241</th>\n",
              "      <td>0.997941</td>\n",
              "      <td>0.25</td>\n",
              "      <td>1.0</td>\n",
              "      <td>1.0</td>\n",
              "      <td>1.0</td>\n",
              "      <td>NaN</td>\n",
              "      <td>1.0</td>\n",
              "      <td>0.0</td>\n",
              "      <td>0.875000</td>\n",
              "      <td>0.25</td>\n",
              "      <td>...</td>\n",
              "      <td>0.0</td>\n",
              "      <td>0.0</td>\n",
              "      <td>0.00000</td>\n",
              "      <td>0.818182</td>\n",
              "      <td>0.8</td>\n",
              "      <td>0.207991</td>\n",
              "      <td>0.038760</td>\n",
              "      <td>0.333333</td>\n",
              "      <td>0.571429</td>\n",
              "      <td>0.267163</td>\n",
              "    </tr>\n",
              "    <tr>\n",
              "      <th>1242</th>\n",
              "      <td>0.998627</td>\n",
              "      <td>0.75</td>\n",
              "      <td>1.0</td>\n",
              "      <td>1.0</td>\n",
              "      <td>1.0</td>\n",
              "      <td>NaN</td>\n",
              "      <td>1.0</td>\n",
              "      <td>0.0</td>\n",
              "      <td>0.333333</td>\n",
              "      <td>0.25</td>\n",
              "      <td>...</td>\n",
              "      <td>0.0</td>\n",
              "      <td>0.0</td>\n",
              "      <td>0.00000</td>\n",
              "      <td>0.636364</td>\n",
              "      <td>0.4</td>\n",
              "      <td>0.194096</td>\n",
              "      <td>0.062016</td>\n",
              "      <td>0.000000</td>\n",
              "      <td>0.714286</td>\n",
              "      <td>0.293300</td>\n",
              "    </tr>\n",
              "    <tr>\n",
              "      <th>1243</th>\n",
              "      <td>1.000000</td>\n",
              "      <td>0.75</td>\n",
              "      <td>1.0</td>\n",
              "      <td>1.0</td>\n",
              "      <td>1.0</td>\n",
              "      <td>NaN</td>\n",
              "      <td>1.0</td>\n",
              "      <td>0.0</td>\n",
              "      <td>0.250000</td>\n",
              "      <td>0.25</td>\n",
              "      <td>...</td>\n",
              "      <td>0.0</td>\n",
              "      <td>0.0</td>\n",
              "      <td>0.16129</td>\n",
              "      <td>0.363636</td>\n",
              "      <td>1.0</td>\n",
              "      <td>0.321235</td>\n",
              "      <td>0.534884</td>\n",
              "      <td>0.000000</td>\n",
              "      <td>0.571429</td>\n",
              "      <td>0.440860</td>\n",
              "    </tr>\n",
              "  </tbody>\n",
              "</table>\n",
              "<p>1244 rows × 81 columns</p>\n",
              "</div>\n",
              "      <button class=\"colab-df-convert\" onclick=\"convertToInteractive('df-36c0422d-40a1-414b-bf07-1a9d08cecac8')\"\n",
              "              title=\"Convert this dataframe to an interactive table.\"\n",
              "              style=\"display:none;\">\n",
              "        \n",
              "  <svg xmlns=\"http://www.w3.org/2000/svg\" height=\"24px\"viewBox=\"0 0 24 24\"\n",
              "       width=\"24px\">\n",
              "    <path d=\"M0 0h24v24H0V0z\" fill=\"none\"/>\n",
              "    <path d=\"M18.56 5.44l.94 2.06.94-2.06 2.06-.94-2.06-.94-.94-2.06-.94 2.06-2.06.94zm-11 1L8.5 8.5l.94-2.06 2.06-.94-2.06-.94L8.5 2.5l-.94 2.06-2.06.94zm10 10l.94 2.06.94-2.06 2.06-.94-2.06-.94-.94-2.06-.94 2.06-2.06.94z\"/><path d=\"M17.41 7.96l-1.37-1.37c-.4-.4-.92-.59-1.43-.59-.52 0-1.04.2-1.43.59L10.3 9.45l-7.72 7.72c-.78.78-.78 2.05 0 2.83L4 21.41c.39.39.9.59 1.41.59.51 0 1.02-.2 1.41-.59l7.78-7.78 2.81-2.81c.8-.78.8-2.07 0-2.86zM5.41 20L4 18.59l7.72-7.72 1.47 1.35L5.41 20z\"/>\n",
              "  </svg>\n",
              "      </button>\n",
              "      \n",
              "  <style>\n",
              "    .colab-df-container {\n",
              "      display:flex;\n",
              "      flex-wrap:wrap;\n",
              "      gap: 12px;\n",
              "    }\n",
              "\n",
              "    .colab-df-convert {\n",
              "      background-color: #E8F0FE;\n",
              "      border: none;\n",
              "      border-radius: 50%;\n",
              "      cursor: pointer;\n",
              "      display: none;\n",
              "      fill: #1967D2;\n",
              "      height: 32px;\n",
              "      padding: 0 0 0 0;\n",
              "      width: 32px;\n",
              "    }\n",
              "\n",
              "    .colab-df-convert:hover {\n",
              "      background-color: #E2EBFA;\n",
              "      box-shadow: 0px 1px 2px rgba(60, 64, 67, 0.3), 0px 1px 3px 1px rgba(60, 64, 67, 0.15);\n",
              "      fill: #174EA6;\n",
              "    }\n",
              "\n",
              "    [theme=dark] .colab-df-convert {\n",
              "      background-color: #3B4455;\n",
              "      fill: #D2E3FC;\n",
              "    }\n",
              "\n",
              "    [theme=dark] .colab-df-convert:hover {\n",
              "      background-color: #434B5C;\n",
              "      box-shadow: 0px 1px 3px 1px rgba(0, 0, 0, 0.15);\n",
              "      filter: drop-shadow(0px 1px 2px rgba(0, 0, 0, 0.3));\n",
              "      fill: #FFFFFF;\n",
              "    }\n",
              "  </style>\n",
              "\n",
              "      <script>\n",
              "        const buttonEl =\n",
              "          document.querySelector('#df-36c0422d-40a1-414b-bf07-1a9d08cecac8 button.colab-df-convert');\n",
              "        buttonEl.style.display =\n",
              "          google.colab.kernel.accessAllowed ? 'block' : 'none';\n",
              "\n",
              "        async function convertToInteractive(key) {\n",
              "          const element = document.querySelector('#df-36c0422d-40a1-414b-bf07-1a9d08cecac8');\n",
              "          const dataTable =\n",
              "            await google.colab.kernel.invokeFunction('convertToInteractive',\n",
              "                                                     [key], {});\n",
              "          if (!dataTable) return;\n",
              "\n",
              "          const docLinkHtml = 'Like what you see? Visit the ' +\n",
              "            '<a target=\"_blank\" href=https://colab.research.google.com/notebooks/data_table.ipynb>data table notebook</a>'\n",
              "            + ' to learn more about interactive tables.';\n",
              "          element.innerHTML = '';\n",
              "          dataTable['output_type'] = 'display_data';\n",
              "          await google.colab.output.renderOutput(dataTable, element);\n",
              "          const docLink = document.createElement('div');\n",
              "          docLink.innerHTML = docLinkHtml;\n",
              "          element.appendChild(docLink);\n",
              "        }\n",
              "      </script>\n",
              "    </div>\n",
              "  </div>\n",
              "  "
            ]
          },
          "metadata": {},
          "execution_count": 51
        }
      ]
    },
    {
      "cell_type": "code",
      "source": [
        "normalized_X = normalized_X.fillna(0.0)"
      ],
      "metadata": {
        "id": "2sjTKEvifp7-"
      },
      "execution_count": 59,
      "outputs": []
    },
    {
      "cell_type": "code",
      "source": [
        "normalized_X.isnull().values.any()"
      ],
      "metadata": {
        "colab": {
          "base_uri": "https://localhost:8080/"
        },
        "id": "aZLc8Rllrfxv",
        "outputId": "18a56def-8fb1-4a7e-ba38-49da9d6cb699"
      },
      "execution_count": 61,
      "outputs": [
        {
          "output_type": "execute_result",
          "data": {
            "text/plain": [
              "False"
            ]
          },
          "metadata": {},
          "execution_count": 61
        }
      ]
    },
    {
      "cell_type": "code",
      "source": [
        "normalized_X.to_csv('/content/drive/MyDrive/CMPE 257 - Project/smogn_clean_train.csv')"
      ],
      "metadata": {
        "id": "8eWol4SgeWvg"
      },
      "execution_count": 64,
      "outputs": []
    },
    {
      "cell_type": "code",
      "source": [
        "normalized_X.values.astype(np.float)"
      ],
      "metadata": {
        "colab": {
          "base_uri": "https://localhost:8080/"
        },
        "id": "W3IDbxYnvwua",
        "outputId": "bb02da54-9643-470a-e0be-93a4fe19400f"
      },
      "execution_count": 63,
      "outputs": [
        {
          "output_type": "stream",
          "name": "stderr",
          "text": [
            "/usr/local/lib/python3.7/dist-packages/ipykernel_launcher.py:1: DeprecationWarning: `np.float` is a deprecated alias for the builtin `float`. To silence this warning, use `float` by itself. Doing this will not modify any behavior and is safe. If you specifically wanted the numpy scalar type, use `np.float64` here.\n",
            "Deprecated in NumPy 1.20; for more details and guidance: https://numpy.org/devdocs/release/1.20.0-notes.html#deprecations\n",
            "  \"\"\"Entry point for launching an IPython kernel.\n"
          ]
        },
        {
          "output_type": "execute_result",
          "data": {
            "text/plain": [
              "array([[0.00000000e+00, 2.50000000e-01, 1.00000000e+00, ...,\n",
              "        2.20909560e-01, 7.14285714e-01, 3.34234538e-01],\n",
              "       [6.86341798e-04, 2.50000000e-01, 1.00000000e+00, ...,\n",
              "        0.00000000e+00, 7.14285714e-01, 3.67188926e-01],\n",
              "       [1.37268360e-03, 2.50000000e-01, 1.00000000e+00, ...,\n",
              "        3.33333333e-01, 6.44745298e-01, 3.10070236e-01],\n",
              "       ...,\n",
              "       [9.97940975e-01, 2.50000000e-01, 1.00000000e+00, ...,\n",
              "        3.33333333e-01, 5.71428571e-01, 2.67162945e-01],\n",
              "       [9.98627316e-01, 7.50000000e-01, 1.00000000e+00, ...,\n",
              "        0.00000000e+00, 7.14285714e-01, 2.93300248e-01],\n",
              "       [1.00000000e+00, 7.50000000e-01, 1.00000000e+00, ...,\n",
              "        0.00000000e+00, 5.71428571e-01, 4.40860215e-01]])"
            ]
          },
          "metadata": {},
          "execution_count": 63
        }
      ]
    },
    {
      "cell_type": "code",
      "source": [
        "X = housing_smogn.drop(['SalePrice'], axis=1)\n",
        "y = housing_smogn['SalePrice']"
      ],
      "metadata": {
        "id": "2dqXTMf3_YXj"
      },
      "execution_count": 30,
      "outputs": []
    },
    {
      "cell_type": "code",
      "source": [
        "X = X.values.astype(np.float)\n",
        "y = y.values.astype(np.float)"
      ],
      "metadata": {
        "colab": {
          "base_uri": "https://localhost:8080/"
        },
        "id": "wGPvg1LuDiEa",
        "outputId": "aa34b7bc-e1c1-44c0-b5f5-9a27b5f1164c"
      },
      "execution_count": 36,
      "outputs": [
        {
          "output_type": "stream",
          "name": "stderr",
          "text": [
            "/usr/local/lib/python3.7/dist-packages/ipykernel_launcher.py:1: DeprecationWarning: `np.float` is a deprecated alias for the builtin `float`. To silence this warning, use `float` by itself. Doing this will not modify any behavior and is safe. If you specifically wanted the numpy scalar type, use `np.float64` here.\n",
            "Deprecated in NumPy 1.20; for more details and guidance: https://numpy.org/devdocs/release/1.20.0-notes.html#deprecations\n",
            "  \"\"\"Entry point for launching an IPython kernel.\n",
            "/usr/local/lib/python3.7/dist-packages/ipykernel_launcher.py:2: DeprecationWarning: `np.float` is a deprecated alias for the builtin `float`. To silence this warning, use `float` by itself. Doing this will not modify any behavior and is safe. If you specifically wanted the numpy scalar type, use `np.float64` here.\n",
            "Deprecated in NumPy 1.20; for more details and guidance: https://numpy.org/devdocs/release/1.20.0-notes.html#deprecations\n",
            "  \n"
          ]
        }
      ]
    },
    {
      "cell_type": "code",
      "source": [
        "normalized_X=(X-X.min())/(X.max()-X.min())\n",
        "normalized_X"
      ],
      "metadata": {
        "colab": {
          "base_uri": "https://localhost:8080/"
        },
        "id": "fTMwxKqVB9Pl",
        "outputId": "1acd8ece-c4f4-4f65-dc44-b04e6829c13b"
      },
      "execution_count": 37,
      "outputs": [
        {
          "output_type": "execute_result",
          "data": {
            "text/plain": [
              "array([[0.00000000e+00, 4.63570326e-06, 4.63570326e-06, ...,\n",
              "        0.00000000e+00, 1.15892581e-05, 1.41611872e-02],\n",
              "       [4.63570326e-06, 4.63570326e-06, 4.63570326e-06, ...,\n",
              "        0.00000000e+00, 1.15892581e-05, 1.39305156e-02],\n",
              "       [9.27140652e-06, 9.27140652e-06, 4.63570326e-06, ...,\n",
              "        6.95355489e-06, 1.15892581e-05, 1.38900009e-02],\n",
              "       ...,\n",
              "       [6.73567684e-03, 1.39071098e-05, 4.63570326e-06, ...,\n",
              "        0.00000000e+00, 4.63570326e-06, 1.05694034e-02],\n",
              "       [6.74958395e-03, 1.39071098e-05, 4.63570326e-06, ...,\n",
              "        6.95355489e-06, 9.27140652e-06, 1.67580673e-02],\n",
              "       [6.75421965e-03, 1.39071098e-05, 4.63570326e-06, ...,\n",
              "        0.00000000e+00, 9.27140652e-06, 1.61878758e-02]])"
            ]
          },
          "metadata": {},
          "execution_count": 37
        }
      ]
    },
    {
      "cell_type": "code",
      "source": [
        "#split the features and labels into  train and test data\n",
        "X_train, X_test, y_train, y_test = train_test_split(normalized_X, y, test_size=0.2, random_state=1)"
      ],
      "metadata": {
        "id": "N7jQ1kp2B9Sq"
      },
      "execution_count": 38,
      "outputs": []
    },
    {
      "cell_type": "code",
      "source": [
        "names = [\"Random Forest Regressor\", \"KNeighbours Regressor\", \"Gradient Boosting Regressor\", \"XG Boost Regressor\", \"Linear Regression\"]"
      ],
      "metadata": {
        "id": "rbRx7u9-B9WS"
      },
      "execution_count": 39,
      "outputs": []
    },
    {
      "cell_type": "code",
      "source": [
        "classifiers = [\n",
        "    #MLPRegressor(random_state=1, activation = 'logistic', max_iter=150),\n",
        "    RandomForestRegressor(max_depth=3, random_state=1, n_estimators=10),\n",
        "    KNeighborsRegressor(n_neighbors=3),\n",
        "    GradientBoostingRegressor(random_state=1),\n",
        "    XGBRegressor(),\n",
        "    LinearRegression()\n",
        "]"
      ],
      "metadata": {
        "id": "ENd1LroQB9Zv"
      },
      "execution_count": 40,
      "outputs": []
    },
    {
      "cell_type": "code",
      "source": [
        "max_score = 1\n",
        "max_class = ''\n",
        "# iterate over classifiers\n",
        "def rmse(predictions, targets):\n",
        "    return np.sqrt(((predictions - targets) ** 2).mean())\n",
        "for name, clf in zip(names, classifiers):\n",
        "    start_time = time.time()\n",
        "    clf.fit(X_train, y_train)\n",
        "    score = 100.0 * clf.score(X_test, y_test)\n",
        "    print('Classifier = %s, Score (test, accuracy) = %.2f,' %(name, score), 'Training time = %.2f seconds' % (time.time() - start_time))\n",
        "    \n",
        "    y_pred = clf.predict(X_test)\n",
        "    mse = mean_squared_error(y_test, y_pred)\n",
        "    print('Classifier = %s, Score (test, MSE) = %.2f,' %(name, mse), 'Training time = %.2f seconds' % (time.time() - start_time))\n",
        "    \n",
        "    rmse_val = rmse(y_pred, y_test)\n",
        "    print('Classifier = %s, Score (test, rmse_val) = %.2f,' %(name, rmse_val), 'Training time = %.2f seconds' % (time.time() - start_time))\n",
        "\n",
        "    mae = mean_absolute_error(y_test, y_pred)\n",
        "    print('Classifier = %s, Score (test, MAE) = %.2f,' %(name, mae), 'Training time = %.2f seconds' % (time.time() - start_time))\n",
        "    \n",
        "    r2 = r2_score(y_test, y_pred)\n",
        "    print('Classifier = %s, Score (test, R2-error) = %.2f,' %(name, r2), 'Training time = %.2f seconds' % (time.time() - start_time))\n",
        "    \n",
        "    cm = confusion_matrix(y_test, y_pred).ravel()\n",
        "    \n",
        "    print('---------------------------------------------------------------------------------------------------------------')\n",
        "\n",
        "\n",
        "    if r2 < max_score:\n",
        "        clf_best = clf\n",
        "        max_score = r2\n",
        "        max_class = name"
      ],
      "metadata": {
        "colab": {
          "base_uri": "https://localhost:8080/",
          "height": 515
        },
        "id": "SDjJwDK9B9c9",
        "outputId": "772c6cdf-aef0-4a77-da4b-6602f8f303fc"
      },
      "execution_count": 43,
      "outputs": [
        {
          "output_type": "stream",
          "name": "stdout",
          "text": [
            "Classifier = Random Forest Regressor, Score (test, accuracy) = 79.61, Training time = 0.08 seconds\n",
            "Classifier = Random Forest Regressor, Score (test, MSE) = 2606968439.41, Training time = 0.09 seconds\n",
            "Classifier = Random Forest Regressor, Score (test, rmse_val) = 51058.48, Training time = 0.09 seconds\n",
            "Classifier = Random Forest Regressor, Score (test, MAE) = 35853.78, Training time = 0.09 seconds\n",
            "Classifier = Random Forest Regressor, Score (test, R2-error) = 0.80, Training time = 0.09 seconds\n"
          ]
        },
        {
          "output_type": "error",
          "ename": "ValueError",
          "evalue": "ignored",
          "traceback": [
            "\u001b[0;31m---------------------------------------------------------------------------\u001b[0m",
            "\u001b[0;31mValueError\u001b[0m                                Traceback (most recent call last)",
            "\u001b[0;32m<ipython-input-43-9e09ee1a6e91>\u001b[0m in \u001b[0;36m<module>\u001b[0;34m()\u001b[0m\n\u001b[1;32m     23\u001b[0m     \u001b[0mprint\u001b[0m\u001b[0;34m(\u001b[0m\u001b[0;34m'Classifier = %s, Score (test, R2-error) = %.2f,'\u001b[0m \u001b[0;34m%\u001b[0m\u001b[0;34m(\u001b[0m\u001b[0mname\u001b[0m\u001b[0;34m,\u001b[0m \u001b[0mr2\u001b[0m\u001b[0;34m)\u001b[0m\u001b[0;34m,\u001b[0m \u001b[0;34m'Training time = %.2f seconds'\u001b[0m \u001b[0;34m%\u001b[0m \u001b[0;34m(\u001b[0m\u001b[0mtime\u001b[0m\u001b[0;34m.\u001b[0m\u001b[0mtime\u001b[0m\u001b[0;34m(\u001b[0m\u001b[0;34m)\u001b[0m \u001b[0;34m-\u001b[0m \u001b[0mstart_time\u001b[0m\u001b[0;34m)\u001b[0m\u001b[0;34m)\u001b[0m\u001b[0;34m\u001b[0m\u001b[0;34m\u001b[0m\u001b[0m\n\u001b[1;32m     24\u001b[0m \u001b[0;34m\u001b[0m\u001b[0m\n\u001b[0;32m---> 25\u001b[0;31m     \u001b[0mcm\u001b[0m \u001b[0;34m=\u001b[0m \u001b[0mconfusion_matrix\u001b[0m\u001b[0;34m(\u001b[0m\u001b[0my_test\u001b[0m\u001b[0;34m,\u001b[0m \u001b[0my_pred\u001b[0m\u001b[0;34m)\u001b[0m\u001b[0;34m.\u001b[0m\u001b[0mravel\u001b[0m\u001b[0;34m(\u001b[0m\u001b[0;34m)\u001b[0m\u001b[0;34m\u001b[0m\u001b[0;34m\u001b[0m\u001b[0m\n\u001b[0m\u001b[1;32m     26\u001b[0m \u001b[0;34m\u001b[0m\u001b[0m\n\u001b[1;32m     27\u001b[0m     \u001b[0mprint\u001b[0m\u001b[0;34m(\u001b[0m\u001b[0;34m'---------------------------------------------------------------------------------------------------------------'\u001b[0m\u001b[0;34m)\u001b[0m\u001b[0;34m\u001b[0m\u001b[0;34m\u001b[0m\u001b[0m\n",
            "\u001b[0;32m/usr/local/lib/python3.7/dist-packages/sklearn/metrics/_classification.py\u001b[0m in \u001b[0;36mconfusion_matrix\u001b[0;34m(y_true, y_pred, labels, sample_weight, normalize)\u001b[0m\n\u001b[1;32m    305\u001b[0m     \u001b[0;34m(\u001b[0m\u001b[0;36m0\u001b[0m\u001b[0;34m,\u001b[0m \u001b[0;36m2\u001b[0m\u001b[0;34m,\u001b[0m \u001b[0;36m1\u001b[0m\u001b[0;34m,\u001b[0m \u001b[0;36m1\u001b[0m\u001b[0;34m)\u001b[0m\u001b[0;34m\u001b[0m\u001b[0;34m\u001b[0m\u001b[0m\n\u001b[1;32m    306\u001b[0m     \"\"\"\n\u001b[0;32m--> 307\u001b[0;31m     \u001b[0my_type\u001b[0m\u001b[0;34m,\u001b[0m \u001b[0my_true\u001b[0m\u001b[0;34m,\u001b[0m \u001b[0my_pred\u001b[0m \u001b[0;34m=\u001b[0m \u001b[0m_check_targets\u001b[0m\u001b[0;34m(\u001b[0m\u001b[0my_true\u001b[0m\u001b[0;34m,\u001b[0m \u001b[0my_pred\u001b[0m\u001b[0;34m)\u001b[0m\u001b[0;34m\u001b[0m\u001b[0;34m\u001b[0m\u001b[0m\n\u001b[0m\u001b[1;32m    308\u001b[0m     \u001b[0;32mif\u001b[0m \u001b[0my_type\u001b[0m \u001b[0;32mnot\u001b[0m \u001b[0;32min\u001b[0m \u001b[0;34m(\u001b[0m\u001b[0;34m\"binary\"\u001b[0m\u001b[0;34m,\u001b[0m \u001b[0;34m\"multiclass\"\u001b[0m\u001b[0;34m)\u001b[0m\u001b[0;34m:\u001b[0m\u001b[0;34m\u001b[0m\u001b[0;34m\u001b[0m\u001b[0m\n\u001b[1;32m    309\u001b[0m         \u001b[0;32mraise\u001b[0m \u001b[0mValueError\u001b[0m\u001b[0;34m(\u001b[0m\u001b[0;34m\"%s is not supported\"\u001b[0m \u001b[0;34m%\u001b[0m \u001b[0my_type\u001b[0m\u001b[0;34m)\u001b[0m\u001b[0;34m\u001b[0m\u001b[0;34m\u001b[0m\u001b[0m\n",
            "\u001b[0;32m/usr/local/lib/python3.7/dist-packages/sklearn/metrics/_classification.py\u001b[0m in \u001b[0;36m_check_targets\u001b[0;34m(y_true, y_pred)\u001b[0m\n\u001b[1;32m    102\u001b[0m     \u001b[0;31m# No metrics support \"multiclass-multioutput\" format\u001b[0m\u001b[0;34m\u001b[0m\u001b[0;34m\u001b[0m\u001b[0;34m\u001b[0m\u001b[0m\n\u001b[1;32m    103\u001b[0m     \u001b[0;32mif\u001b[0m \u001b[0my_type\u001b[0m \u001b[0;32mnot\u001b[0m \u001b[0;32min\u001b[0m \u001b[0;34m[\u001b[0m\u001b[0;34m\"binary\"\u001b[0m\u001b[0;34m,\u001b[0m \u001b[0;34m\"multiclass\"\u001b[0m\u001b[0;34m,\u001b[0m \u001b[0;34m\"multilabel-indicator\"\u001b[0m\u001b[0;34m]\u001b[0m\u001b[0;34m:\u001b[0m\u001b[0;34m\u001b[0m\u001b[0;34m\u001b[0m\u001b[0m\n\u001b[0;32m--> 104\u001b[0;31m         \u001b[0;32mraise\u001b[0m \u001b[0mValueError\u001b[0m\u001b[0;34m(\u001b[0m\u001b[0;34m\"{0} is not supported\"\u001b[0m\u001b[0;34m.\u001b[0m\u001b[0mformat\u001b[0m\u001b[0;34m(\u001b[0m\u001b[0my_type\u001b[0m\u001b[0;34m)\u001b[0m\u001b[0;34m)\u001b[0m\u001b[0;34m\u001b[0m\u001b[0;34m\u001b[0m\u001b[0m\n\u001b[0m\u001b[1;32m    105\u001b[0m \u001b[0;34m\u001b[0m\u001b[0m\n\u001b[1;32m    106\u001b[0m     \u001b[0;32mif\u001b[0m \u001b[0my_type\u001b[0m \u001b[0;32min\u001b[0m \u001b[0;34m[\u001b[0m\u001b[0;34m\"binary\"\u001b[0m\u001b[0;34m,\u001b[0m \u001b[0;34m\"multiclass\"\u001b[0m\u001b[0;34m]\u001b[0m\u001b[0;34m:\u001b[0m\u001b[0;34m\u001b[0m\u001b[0;34m\u001b[0m\u001b[0m\n",
            "\u001b[0;31mValueError\u001b[0m: continuous is not supported"
          ]
        }
      ]
    },
    {
      "cell_type": "code",
      "source": [
        "print('Best --> Classifier = %s, Score (test, r2) = %.2f' %(max_class, max_score))\n",
        "#plot the output of the various algorithms"
      ],
      "metadata": {
        "colab": {
          "base_uri": "https://localhost:8080/"
        },
        "id": "ABpGQom2B9gD",
        "outputId": "467ee122-0be2-450c-c776-870d38be26d7"
      },
      "execution_count": null,
      "outputs": [
        {
          "output_type": "stream",
          "name": "stdout",
          "text": [
            "Best --> Classifier = Random Forest Regressor, Score (test, r2) = 0.72\n"
          ]
        }
      ]
    },
    {
      "cell_type": "code",
      "source": [
        "#feature importance\n",
        "#for RandomForestRegressor\n",
        "clf = RandomForestRegressor(max_depth=3, random_state=1, n_estimators=10)\n",
        "clf.fit(X_train, y_train)\n",
        "clf.feature_importances_\n",
        "#len(clf.feature_importances_)"
      ],
      "metadata": {
        "colab": {
          "base_uri": "https://localhost:8080/"
        },
        "id": "xSEIYOS6B9jy",
        "outputId": "8d2ee169-3fd6-4347-8094-fa6f6239541b"
      },
      "execution_count": null,
      "outputs": [
        {
          "output_type": "execute_result",
          "data": {
            "text/plain": [
              "array([7.60178343e-04, 0.00000000e+00, 0.00000000e+00, 0.00000000e+00,\n",
              "       0.00000000e+00, 0.00000000e+00, 0.00000000e+00, 0.00000000e+00,\n",
              "       0.00000000e+00, 0.00000000e+00, 0.00000000e+00, 0.00000000e+00,\n",
              "       0.00000000e+00, 0.00000000e+00, 0.00000000e+00, 0.00000000e+00,\n",
              "       0.00000000e+00, 0.00000000e+00, 0.00000000e+00, 0.00000000e+00,\n",
              "       0.00000000e+00, 0.00000000e+00, 0.00000000e+00, 0.00000000e+00,\n",
              "       0.00000000e+00, 0.00000000e+00, 0.00000000e+00, 0.00000000e+00,\n",
              "       0.00000000e+00, 0.00000000e+00, 2.20406397e-03, 0.00000000e+00,\n",
              "       3.50825201e-03, 0.00000000e+00, 0.00000000e+00, 0.00000000e+00,\n",
              "       0.00000000e+00, 0.00000000e+00, 0.00000000e+00, 0.00000000e+00,\n",
              "       0.00000000e+00, 0.00000000e+00, 0.00000000e+00, 0.00000000e+00,\n",
              "       0.00000000e+00, 5.12963221e-03, 5.80499490e-03, 0.00000000e+00,\n",
              "       0.00000000e+00, 0.00000000e+00, 2.84154446e-03, 0.00000000e+00,\n",
              "       0.00000000e+00, 4.81839849e-03, 0.00000000e+00, 0.00000000e+00,\n",
              "       0.00000000e+00, 0.00000000e+00, 0.00000000e+00, 0.00000000e+00,\n",
              "       0.00000000e+00, 0.00000000e+00, 5.26901300e-03, 0.00000000e+00,\n",
              "       5.13869379e-04, 8.67962384e-03, 1.85859606e-03, 0.00000000e+00,\n",
              "       0.00000000e+00, 0.00000000e+00, 0.00000000e+00, 0.00000000e+00,\n",
              "       0.00000000e+00, 0.00000000e+00, 3.70715310e-03, 0.00000000e+00,\n",
              "       1.18558322e-02, 0.00000000e+00, 8.03711566e-03, 9.35011732e-01])"
            ]
          },
          "metadata": {},
          "execution_count": 76
        }
      ]
    },
    {
      "cell_type": "code",
      "source": [
        "X1 = housing_smogn.drop(['SalePrice'], axis=1)\n",
        "pyplot.barh(X1.columns, clf.feature_importances_)"
      ],
      "metadata": {
        "colab": {
          "base_uri": "https://localhost:8080/",
          "height": 282
        },
        "id": "rTh9PWHhCI48",
        "outputId": "3a8a73c5-8b1d-4b0e-e34f-a3e330956054"
      },
      "execution_count": null,
      "outputs": [
        {
          "output_type": "execute_result",
          "data": {
            "text/plain": [
              "<BarContainer object of 80 artists>"
            ]
          },
          "metadata": {},
          "execution_count": 82
        },
        {
          "output_type": "display_data",
          "data": {
            "text/plain": [
              "<Figure size 432x288 with 1 Axes>"
            ],
            "image/png": "[encoded data removed]"
          },
          "metadata": {
            "needs_background": "light"
          }
        }
      ]
    },
    {
      "cell_type": "code",
      "source": [
        "sorted_idx = clf.feature_importances_.argsort()[70:]\n",
        "pyplot.barh(X1.columns[sorted_idx], clf.feature_importances_[sorted_idx])\n",
        "pyplot.xlabel(\"Random Forest Feature Importance\")"
      ],
      "metadata": {
        "colab": {
          "base_uri": "https://localhost:8080/",
          "height": 297
        },
        "id": "MyBSe5wTCI_K",
        "outputId": "193026e6-bd0a-4d48-f42e-7d8f3412c965"
      },
      "execution_count": null,
      "outputs": [
        {
          "output_type": "execute_result",
          "data": {
            "text/plain": [
              "Text(0.5, 0, 'Random Forest Feature Importance')"
            ]
          },
          "metadata": {},
          "execution_count": 83
        },
        {
          "output_type": "display_data",
          "data": {
            "text/plain": [
              "<Figure size 432x288 with 1 Axes>"
            ],
            "image/png": "[encoded data removed]"
          },
          "metadata": {
            "needs_background": "light"
          }
        }
      ]
    },
    {
      "cell_type": "code",
      "source": [
        "#Linear Regression\n",
        "model = LinearRegression()\n",
        "# fit the model\n",
        "model.fit(X_train, y_train)\n",
        "# get importance\n",
        "importance = model.coef_\n",
        "# summarize feature importance\n",
        "for i,v in enumerate(importance):\n",
        "\tprint('Feature: %0d, Score: %.5f' % (i,v))\n",
        "# plot feature importance\n",
        "pyplot.bar([x for x in range(len(importance))], importance)[:10]\n",
        "pyplot.show()"
      ],
      "metadata": {
        "colab": {
          "base_uri": "https://localhost:8080/",
          "height": 1000
        },
        "id": "r7VA8A4ACJCi",
        "outputId": "290aad2d-abbc-4e30-9fa4-8d2351b6a0e4"
      },
      "execution_count": null,
      "outputs": [
        {
          "output_type": "stream",
          "name": "stdout",
          "text": [
            "Feature: 0, Score: -1167753.47795\n",
            "Feature: 1, Score: -202649153.50329\n",
            "Feature: 2, Score: 1648743012.23729\n",
            "Feature: 3, Score: -1645105205.51661\n",
            "Feature: 4, Score: -69584441.81618\n",
            "Feature: 5, Score: 0.01390\n",
            "Feature: 6, Score: 133267883.01373\n",
            "Feature: 7, Score: -1957503697.70387\n",
            "Feature: 8, Score: 63356983.68706\n",
            "Feature: 9, Score: -588087119.48172\n",
            "Feature: 10, Score: -6199894101.07529\n",
            "Feature: 11, Score: 206307458.51641\n",
            "Feature: 12, Score: -211215869.23068\n",
            "Feature: 13, Score: 890648834.75581\n",
            "Feature: 14, Score: -407725573.57935\n",
            "Feature: 15, Score: -262129905.33114\n",
            "Feature: 16, Score: 122034785.96817\n",
            "Feature: 17, Score: 885824923.24310\n",
            "Feature: 18, Score: 999099144.50651\n",
            "Feature: 19, Score: 83212796.56635\n",
            "Feature: 20, Score: 1336230302.86308\n",
            "Feature: 21, Score: -580099734.70923\n",
            "Feature: 22, Score: 65249944.25037\n",
            "Feature: 23, Score: 2043090106.15906\n",
            "Feature: 24, Score: -271689866.74198\n",
            "Feature: 25, Score: 530438079.59940\n",
            "Feature: 26, Score: 2695457690.50598\n",
            "Feature: 27, Score: 759251602.55886\n",
            "Feature: 28, Score: -1237386514.05377\n",
            "Feature: 29, Score: -473821487.87114\n",
            "Feature: 30, Score: 896357416.89835\n",
            "Feature: 31, Score: 680654569.25366\n",
            "Feature: 32, Score: -203703903.19172\n",
            "Feature: 33, Score: 433710690.30077\n",
            "Feature: 34, Score: -371299100.87195\n",
            "Feature: 35, Score: -1459756252.92272\n",
            "Feature: 36, Score: -167024162.43537\n",
            "Feature: 37, Score: 992217281.00104\n",
            "Feature: 38, Score: -606860992.65445\n",
            "Feature: 39, Score: 1183835033.43350\n",
            "Feature: 40, Score: -24639047.52120\n",
            "Feature: 41, Score: 24856929.33502\n",
            "Feature: 42, Score: 85606.45782\n",
            "Feature: 43, Score: 2826947013.52809\n",
            "Feature: 44, Score: 1025358771.21484\n",
            "Feature: 45, Score: -2007550656.34826\n",
            "Feature: 46, Score: 29613151.71945\n",
            "Feature: 47, Score: 8096039.86121\n",
            "Feature: 48, Score: 344375198.88749\n",
            "Feature: 49, Score: 335585762.15939\n",
            "Feature: 50, Score: 336703968.82865\n",
            "Feature: 51, Score: -690660167.62341\n",
            "Feature: 52, Score: -294726151.01836\n",
            "Feature: 53, Score: -293667102.68412\n",
            "Feature: 54, Score: 61707278.26121\n",
            "Feature: 55, Score: -53761917.87427\n",
            "Feature: 56, Score: -182349804941.03253\n",
            "Feature: 57, Score: -606499138.88756\n",
            "Feature: 58, Score: -1421223940.44176\n",
            "Feature: 59, Score: 568000952.62663\n",
            "Feature: 60, Score: -2082275048.12042\n",
            "Feature: 61, Score: -7246841186.92582\n",
            "Feature: 62, Score: 1280272876.20324\n",
            "Feature: 63, Score: 1076967484.65563\n",
            "Feature: 64, Score: -19816993.30355\n",
            "Feature: 65, Score: 1788758606.59055\n",
            "Feature: 66, Score: 6359391.91057\n",
            "Feature: 67, Score: 413164.96763\n",
            "Feature: 68, Score: -1734507.79087\n",
            "Feature: 69, Score: -10315478.77073\n",
            "Feature: 70, Score: 21339139.97998\n",
            "Feature: 71, Score: 11554864.79801\n",
            "Feature: 72, Score: 37231368.26695\n",
            "Feature: 73, Score: -3899293.98789\n",
            "Feature: 74, Score: -274826732.67662\n",
            "Feature: 75, Score: 2034834674.13723\n",
            "Feature: 76, Score: -2014874899.67097\n",
            "Feature: 77, Score: 121061919825.69731\n",
            "Feature: 78, Score: 3096344465.23796\n",
            "Feature: 79, Score: 359342653.23811\n"
          ]
        },
        {
          "output_type": "display_data",
          "data": {
            "text/plain": [
              "<Figure size 432x288 with 1 Axes>"
            ],
            "image/png": "[encoded data removed]"
          },
          "metadata": {
            "needs_background": "light"
          }
        }
      ]
    },
    {
      "cell_type": "code",
      "source": [
        "sorted_idx = model.coef_.argsort()[70:]\n",
        "pyplot.barh(X1.columns[sorted_idx], model.coef_[sorted_idx])\n",
        "pyplot.xlabel(\"Linear Regression Feature Importance\")"
      ],
      "metadata": {
        "colab": {
          "base_uri": "https://localhost:8080/",
          "height": 297
        },
        "id": "URIDLekmCJF6",
        "outputId": "f294e18a-34bc-4d8d-e026-76c015266927"
      },
      "execution_count": null,
      "outputs": [
        {
          "output_type": "execute_result",
          "data": {
            "text/plain": [
              "Text(0.5, 0, 'Linear Regression Feature Importance')"
            ]
          },
          "metadata": {},
          "execution_count": 86
        },
        {
          "output_type": "display_data",
          "data": {
            "text/plain": [
              "<Figure size 432x288 with 1 Axes>"
            ],
            "image/png": "[encoded data removed]"
          },
          "metadata": {
            "needs_background": "light"
          }
        }
      ]
    },
    {
      "cell_type": "code",
      "source": [
        "#feature importance\n",
        "\n",
        "clf = GradientBoostingRegressor(random_state=1)\n",
        "clf.fit(X_train, y_train)\n",
        "clf.feature_importances_\n",
        "#len(clf.feature_importances_)"
      ],
      "metadata": {
        "colab": {
          "base_uri": "https://localhost:8080/"
        },
        "id": "onM8IZblCJJS",
        "outputId": "5fe9e085-58e9-4b9f-9096-fd59c63d7f5d"
      },
      "execution_count": null,
      "outputs": [
        {
          "output_type": "execute_result",
          "data": {
            "text/plain": [
              "array([5.67550982e-03, 4.18116020e-04, 0.00000000e+00, 2.19941055e-03,\n",
              "       2.77702564e-03, 0.00000000e+00, 2.28376240e-04, 0.00000000e+00,\n",
              "       1.28533873e-03, 3.44418484e-04, 7.84872307e-04, 0.00000000e+00,\n",
              "       2.34723003e-04, 8.55607600e-05, 2.80110104e-04, 8.50002254e-04,\n",
              "       3.40172979e-04, 2.46992751e-04, 3.37225112e-03, 1.59028062e-06,\n",
              "       0.00000000e+00, 3.31492019e-03, 0.00000000e+00, 5.41539746e-05,\n",
              "       4.64044252e-05, 4.83613906e-04, 0.00000000e+00, 1.41912335e-05,\n",
              "       4.19715810e-04, 3.39576574e-04, 1.01312712e-02, 2.89201095e-04,\n",
              "       2.12180488e-03, 3.97084241e-04, 1.03268110e-03, 3.08100731e-04,\n",
              "       0.00000000e+00, 8.30964753e-05, 5.43594825e-04, 2.77271659e-03,\n",
              "       2.69834840e-04, 2.72392222e-03, 7.09374149e-03, 8.86512509e-02,\n",
              "       2.23526114e-03, 7.07052322e-03, 6.27551144e-03, 7.90832998e-03,\n",
              "       2.17880155e-02, 1.07899841e-03, 2.59508746e-03, 3.61762349e-03,\n",
              "       2.37983556e-03, 8.27118741e-03, 0.00000000e+00, 2.33087978e-02,\n",
              "       2.11445746e-03, 2.21634891e-04, 0.00000000e+00, 2.07874903e-04,\n",
              "       7.05872868e-04, 9.31740549e-04, 1.38658415e-02, 2.91439216e-04,\n",
              "       4.54968223e-03, 6.46763989e-02, 3.57556545e-03, 1.44350769e-03,\n",
              "       2.49046417e-03, 4.96133227e-04, 2.35623332e-03, 2.03929683e-03,\n",
              "       4.41228773e-03, 0.00000000e+00, 1.73278017e-03, 8.07586446e-04,\n",
              "       5.82723320e-03, 0.00000000e+00, 2.21157849e-03, 6.58297872e-01])"
            ]
          },
          "metadata": {},
          "execution_count": 87
        }
      ]
    },
    {
      "cell_type": "code",
      "source": [
        "pyplot.barh(X1.columns, clf.feature_importances_)"
      ],
      "metadata": {
        "colab": {
          "base_uri": "https://localhost:8080/",
          "height": 282
        },
        "id": "6ujT86V4B9n1",
        "outputId": "9eec8e31-43fb-4d0d-bef5-34a41ca5c96b"
      },
      "execution_count": null,
      "outputs": [
        {
          "output_type": "execute_result",
          "data": {
            "text/plain": [
              "<BarContainer object of 80 artists>"
            ]
          },
          "metadata": {},
          "execution_count": 88
        },
        {
          "output_type": "display_data",
          "data": {
            "text/plain": [
              "<Figure size 432x288 with 1 Axes>"
            ],
            "image/png": "[encoded data removed]"
          },
          "metadata": {
            "needs_background": "light"
          }
        }
      ]
    },
    {
      "cell_type": "code",
      "source": [
        "sorted_idx = clf.feature_importances_.argsort()[70:]\n",
        "pyplot.barh(X1.columns[sorted_idx], clf.feature_importances_[sorted_idx])\n",
        "pyplot.xlabel(\"Random Forest Feature Importance\")"
      ],
      "metadata": {
        "colab": {
          "base_uri": "https://localhost:8080/",
          "height": 297
        },
        "id": "niV_dMljB9rM",
        "outputId": "c8c30b38-a029-40ce-9179-b718ec53046e"
      },
      "execution_count": null,
      "outputs": [
        {
          "output_type": "execute_result",
          "data": {
            "text/plain": [
              "Text(0.5, 0, 'Random Forest Feature Importance')"
            ]
          },
          "metadata": {},
          "execution_count": 89
        },
        {
          "output_type": "display_data",
          "data": {
            "text/plain": [
              "<Figure size 432x288 with 1 Axes>"
            ],
            "image/png": "[encoded data removed]"
          },
          "metadata": {
            "needs_background": "light"
          }
        }
      ]
    },
    {
      "cell_type": "code",
      "source": [
        "\n",
        "clf = XGBRegressor()\n",
        "clf.fit(X_train, y_train)\n",
        "clf.feature_importances_\n",
        "#len(clf.feature_importances_)"
      ],
      "metadata": {
        "colab": {
          "base_uri": "https://localhost:8080/"
        },
        "id": "zNK-8ZKbCVI2",
        "outputId": "9d0c8d5a-6242-41ca-c224-38cbff96105f"
      },
      "execution_count": null,
      "outputs": [
        {
          "output_type": "stream",
          "name": "stdout",
          "text": [
            "[07:39:14] WARNING: /workspace/src/objective/regression_obj.cu:152: reg:linear is now deprecated in favor of reg:squarederror.\n"
          ]
        },
        {
          "output_type": "execute_result",
          "data": {
            "text/plain": [
              "array([4.90033068e-03, 7.72298430e-04, 0.00000000e+00, 5.06506441e-03,\n",
              "       1.10804411e-02, 0.00000000e+00, 2.26106239e-03, 3.16134514e-03,\n",
              "       3.09244567e-03, 7.08520366e-03, 5.93586871e-03, 3.28410621e-04,\n",
              "       1.08754874e-04, 1.85616489e-03, 2.17113621e-03, 2.77099665e-03,\n",
              "       1.22909714e-03, 1.88306940e-03, 6.58996776e-02, 0.00000000e+00,\n",
              "       0.00000000e+00, 3.01688351e-02, 0.00000000e+00, 1.48319616e-03,\n",
              "       6.84367353e-03, 3.44024203e-03, 0.00000000e+00, 6.71080372e-04,\n",
              "       6.49682526e-03, 9.20912658e-04, 2.94488948e-02, 1.40195340e-03,\n",
              "       1.57682877e-02, 3.41747142e-03, 2.21343003e-02, 6.39870390e-03,\n",
              "       0.00000000e+00, 1.80517047e-04, 0.00000000e+00, 5.44166705e-03,\n",
              "       2.11163002e-04, 4.38106526e-03, 4.55365982e-03, 7.70268962e-02,\n",
              "       3.07353586e-03, 1.81125421e-02, 1.80854257e-02, 8.93084612e-03,\n",
              "       1.09386565e-02, 3.20753525e-03, 3.21918726e-03, 3.26694152e-03,\n",
              "       3.76922078e-03, 8.02989397e-03, 0.00000000e+00, 1.42408554e-02,\n",
              "       1.54284621e-02, 2.56299297e-03, 0.00000000e+00, 3.01170396e-03,\n",
              "       4.11341758e-03, 6.13482029e-04, 4.63560745e-02, 4.06669918e-03,\n",
              "       7.05733616e-03, 1.88343599e-01, 2.89468071e-03, 1.84754340e-03,\n",
              "       3.61237535e-03, 9.41787788e-04, 2.71871407e-03, 2.75267754e-03,\n",
              "       7.03762006e-03, 0.00000000e+00, 1.00026643e-02, 1.43368100e-03,\n",
              "       8.85549095e-03, 0.00000000e+00, 1.21355532e-02, 2.39348084e-01],\n",
              "      dtype=float32)"
            ]
          },
          "metadata": {},
          "execution_count": 90
        }
      ]
    },
    {
      "cell_type": "code",
      "source": [
        "pyplot.barh(X1.columns, clf.feature_importances_)"
      ],
      "metadata": {
        "colab": {
          "base_uri": "https://localhost:8080/",
          "height": 282
        },
        "id": "_0MCwUb-CVPq",
        "outputId": "153e00eb-f3d9-468d-e6da-347de76ad35a"
      },
      "execution_count": null,
      "outputs": [
        {
          "output_type": "execute_result",
          "data": {
            "text/plain": [
              "<BarContainer object of 80 artists>"
            ]
          },
          "metadata": {},
          "execution_count": 91
        },
        {
          "output_type": "display_data",
          "data": {
            "text/plain": [
              "<Figure size 432x288 with 1 Axes>"
            ],
            "image/png": "[encoded data removed]"
          },
          "metadata": {
            "needs_background": "light"
          }
        }
      ]
    },
    {
      "cell_type": "code",
      "source": [
        "sorted_idx = clf.feature_importances_.argsort()[70:]\n",
        "pyplot.barh(X1.columns[sorted_idx], clf.feature_importances_[sorted_idx])\n",
        "pyplot.xlabel(\"Random Forest Feature Importance\")"
      ],
      "metadata": {
        "colab": {
          "base_uri": "https://localhost:8080/",
          "height": 297
        },
        "id": "p6kY7oE2CVUK",
        "outputId": "921f44b3-86e3-4423-9abb-ee497dc07459"
      },
      "execution_count": null,
      "outputs": [
        {
          "output_type": "execute_result",
          "data": {
            "text/plain": [
              "Text(0.5, 0, 'Random Forest Feature Importance')"
            ]
          },
          "metadata": {},
          "execution_count": 92
        },
        {
          "output_type": "display_data",
          "data": {
            "text/plain": [
              "<Figure size 432x288 with 1 Axes>"
            ],
            "image/png": "[encoded data removed]"
          },
          "metadata": {
            "needs_background": "light"
          }
        }
      ]
    },
    {
      "cell_type": "code",
      "source": [
        ""
      ],
      "metadata": {
        "id": "jaNCyetnEXLS"
      },
      "execution_count": null,
      "outputs": []
    }
  ]
}