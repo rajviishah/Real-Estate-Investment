{
  "nbformat": 4,
  "nbformat_minor": 0,
  "metadata": {
    "colab": {
      "name": "CMPE 257 - HW6 - Part 1.ipynb",
      "provenance": [],
      "mount_file_id": "11HNmqR8kXIATvkyoUOeAw_bFSGj3laXl",
      "authorship_tag": "ABX9TyMph260/1Q6sRpO5A5qvPLr",
      "include_colab_link": true
    },
    "kernelspec": {
      "name": "python3",
      "display_name": "Python 3"
    },
    "language_info": {
      "name": "python"
    }
  },
  "cells": [
    {
      "cell_type": "markdown",
      "metadata": {
        "id": "view-in-github",
        "colab_type": "text"
      },
      "source": [
        "<a href=\"https://colab.research.google.com/github/rajviishah/Real-Estate-Investment/blob/main/HW6/Regression-Muller-Loop-Performance.ipynb\" target=\"_parent\"><img src=\"https://colab.research.google.com/assets/colab-badge.svg\" alt=\"Open In Colab\"/></a>"
      ]
    },
    {
      "cell_type": "code",
      "execution_count": null,
      "metadata": {
        "colab": {
          "base_uri": "https://localhost:8080/"
        },
        "id": "G2B6qS_pgRNF",
        "outputId": "46f9911c-5e89-4830-e741-9e1b8dc7ca7a"
      },
      "outputs": [
        {
          "output_type": "stream",
          "name": "stdout",
          "text": [
            "Requirement already satisfied: xgboost in /usr/local/lib/python3.7/dist-packages (0.90)\n",
            "Requirement already satisfied: numpy in /usr/local/lib/python3.7/dist-packages (from xgboost) (1.21.5)\n",
            "Requirement already satisfied: scipy in /usr/local/lib/python3.7/dist-packages (from xgboost) (1.4.1)\n"
          ]
        }
      ],
      "source": [
        "!pip install xgboost"
      ]
    },
    {
      "cell_type": "code",
      "source": [
        "import time\n",
        "import pandas as pd\n",
        "import numpy as np\n",
        "import seaborn\n",
        "from matplotlib import pyplot\n",
        "from sklearn.model_selection import train_test_split\n",
        "from sklearn.neural_network import MLPRegressor\n",
        "from sklearn.ensemble import RandomForestRegressor\n",
        "from sklearn.neighbors import KNeighborsRegressor\n",
        "from sklearn.ensemble import GradientBoostingRegressor\n",
        "from sklearn.linear_model import LinearRegression\n",
        "from xgboost import XGBRegressor\n",
        "from sklearn.metrics import mean_squared_error\n",
        "from sklearn.metrics import mean_absolute_error\n",
        "from sklearn.metrics import r2_score"
      ],
      "metadata": {
        "id": "aV7PmhmXjV9z"
      },
      "execution_count": null,
      "outputs": []
    },
    {
      "cell_type": "code",
      "source": [
        "dataframe = pd.read_csv(\"/content/drive/MyDrive/CMPE 257 - Project/sarjak_new_clean_train.csv\")"
      ],
      "metadata": {
        "id": "FGJZxO9_jjDT"
      },
      "execution_count": null,
      "outputs": []
    },
    {
      "cell_type": "code",
      "source": [
        "dataframe.head()"
      ],
      "metadata": {
        "colab": {
          "base_uri": "https://localhost:8080/",
          "height": 317
        },
        "id": "aMwXq02djvOO",
        "outputId": "218f4a4e-c8a6-4e72-b1ea-b2465cb25905"
      },
      "execution_count": null,
      "outputs": [
        {
          "output_type": "execute_result",
          "data": {
            "text/plain": [
              "   Unnamed: 0  MSZoning  Street  LotShape  LandContour  Utilities  LotConfig  \\\n",
              "0           0         3       1         3            3          0          4   \n",
              "1           1         3       1         3            3          0          2   \n",
              "2           2         3       1         2            3          0          4   \n",
              "3           3         3       1         2            3          0          0   \n",
              "4           4         3       1         2            3          0          2   \n",
              "\n",
              "   LandSlope  Neighborhood  Condition1  ...  ScreenPorch  PoolArea  MiscVal  \\\n",
              "0          0             5           2  ...            0         0        0   \n",
              "1          0            24           1  ...            0         0        0   \n",
              "2          0             5           2  ...            0         0        0   \n",
              "3          0             6           2  ...            0         0        0   \n",
              "4          0            15           2  ...            0         0        0   \n",
              "\n",
              "   MoSold  YrSold  SalePrice  Age_House  TotalBsmtBath  TotalBath  TotalSA  \n",
              "0       2    2008   208500.0          5            1.5        2.5   2566.0  \n",
              "1       5    2007   181500.0         31            0.0        2.0   2524.0  \n",
              "2       9    2008   223500.0          7            1.5        2.5   2706.0  \n",
              "3       2    2006   140000.0         91            1.5        1.0   2473.0  \n",
              "4      12    2008   250000.0          8            1.5        2.5   3343.0  \n",
              "\n",
              "[5 rows x 81 columns]"
            ],
            "text/html": [
              "\n",
              "  <div id=\"df-5e9c2eba-1e30-406b-b104-508d93ca0293\">\n",
              "    <div class=\"colab-df-container\">\n",
              "      <div>\n",
              "<style scoped>\n",
              "    .dataframe tbody tr th:only-of-type {\n",
              "        vertical-align: middle;\n",
              "    }\n",
              "\n",
              "    .dataframe tbody tr th {\n",
              "        vertical-align: top;\n",
              "    }\n",
              "\n",
              "    .dataframe thead th {\n",
              "        text-align: right;\n",
              "    }\n",
              "</style>\n",
              "<table border=\"1\" class=\"dataframe\">\n",
              "  <thead>\n",
              "    <tr style=\"text-align: right;\">\n",
              "      <th></th>\n",
              "      <th>Unnamed: 0</th>\n",
              "      <th>MSZoning</th>\n",
              "      <th>Street</th>\n",
              "      <th>LotShape</th>\n",
              "      <th>LandContour</th>\n",
              "      <th>Utilities</th>\n",
              "      <th>LotConfig</th>\n",
              "      <th>LandSlope</th>\n",
              "      <th>Neighborhood</th>\n",
              "      <th>Condition1</th>\n",
              "      <th>...</th>\n",
              "      <th>ScreenPorch</th>\n",
              "      <th>PoolArea</th>\n",
              "      <th>MiscVal</th>\n",
              "      <th>MoSold</th>\n",
              "      <th>YrSold</th>\n",
              "      <th>SalePrice</th>\n",
              "      <th>Age_House</th>\n",
              "      <th>TotalBsmtBath</th>\n",
              "      <th>TotalBath</th>\n",
              "      <th>TotalSA</th>\n",
              "    </tr>\n",
              "  </thead>\n",
              "  <tbody>\n",
              "    <tr>\n",
              "      <th>0</th>\n",
              "      <td>0</td>\n",
              "      <td>3</td>\n",
              "      <td>1</td>\n",
              "      <td>3</td>\n",
              "      <td>3</td>\n",
              "      <td>0</td>\n",
              "      <td>4</td>\n",
              "      <td>0</td>\n",
              "      <td>5</td>\n",
              "      <td>2</td>\n",
              "      <td>...</td>\n",
              "      <td>0</td>\n",
              "      <td>0</td>\n",
              "      <td>0</td>\n",
              "      <td>2</td>\n",
              "      <td>2008</td>\n",
              "      <td>208500.0</td>\n",
              "      <td>5</td>\n",
              "      <td>1.5</td>\n",
              "      <td>2.5</td>\n",
              "      <td>2566.0</td>\n",
              "    </tr>\n",
              "    <tr>\n",
              "      <th>1</th>\n",
              "      <td>1</td>\n",
              "      <td>3</td>\n",
              "      <td>1</td>\n",
              "      <td>3</td>\n",
              "      <td>3</td>\n",
              "      <td>0</td>\n",
              "      <td>2</td>\n",
              "      <td>0</td>\n",
              "      <td>24</td>\n",
              "      <td>1</td>\n",
              "      <td>...</td>\n",
              "      <td>0</td>\n",
              "      <td>0</td>\n",
              "      <td>0</td>\n",
              "      <td>5</td>\n",
              "      <td>2007</td>\n",
              "      <td>181500.0</td>\n",
              "      <td>31</td>\n",
              "      <td>0.0</td>\n",
              "      <td>2.0</td>\n",
              "      <td>2524.0</td>\n",
              "    </tr>\n",
              "    <tr>\n",
              "      <th>2</th>\n",
              "      <td>2</td>\n",
              "      <td>3</td>\n",
              "      <td>1</td>\n",
              "      <td>2</td>\n",
              "      <td>3</td>\n",
              "      <td>0</td>\n",
              "      <td>4</td>\n",
              "      <td>0</td>\n",
              "      <td>5</td>\n",
              "      <td>2</td>\n",
              "      <td>...</td>\n",
              "      <td>0</td>\n",
              "      <td>0</td>\n",
              "      <td>0</td>\n",
              "      <td>9</td>\n",
              "      <td>2008</td>\n",
              "      <td>223500.0</td>\n",
              "      <td>7</td>\n",
              "      <td>1.5</td>\n",
              "      <td>2.5</td>\n",
              "      <td>2706.0</td>\n",
              "    </tr>\n",
              "    <tr>\n",
              "      <th>3</th>\n",
              "      <td>3</td>\n",
              "      <td>3</td>\n",
              "      <td>1</td>\n",
              "      <td>2</td>\n",
              "      <td>3</td>\n",
              "      <td>0</td>\n",
              "      <td>0</td>\n",
              "      <td>0</td>\n",
              "      <td>6</td>\n",
              "      <td>2</td>\n",
              "      <td>...</td>\n",
              "      <td>0</td>\n",
              "      <td>0</td>\n",
              "      <td>0</td>\n",
              "      <td>2</td>\n",
              "      <td>2006</td>\n",
              "      <td>140000.0</td>\n",
              "      <td>91</td>\n",
              "      <td>1.5</td>\n",
              "      <td>1.0</td>\n",
              "      <td>2473.0</td>\n",
              "    </tr>\n",
              "    <tr>\n",
              "      <th>4</th>\n",
              "      <td>4</td>\n",
              "      <td>3</td>\n",
              "      <td>1</td>\n",
              "      <td>2</td>\n",
              "      <td>3</td>\n",
              "      <td>0</td>\n",
              "      <td>2</td>\n",
              "      <td>0</td>\n",
              "      <td>15</td>\n",
              "      <td>2</td>\n",
              "      <td>...</td>\n",
              "      <td>0</td>\n",
              "      <td>0</td>\n",
              "      <td>0</td>\n",
              "      <td>12</td>\n",
              "      <td>2008</td>\n",
              "      <td>250000.0</td>\n",
              "      <td>8</td>\n",
              "      <td>1.5</td>\n",
              "      <td>2.5</td>\n",
              "      <td>3343.0</td>\n",
              "    </tr>\n",
              "  </tbody>\n",
              "</table>\n",
              "<p>5 rows × 81 columns</p>\n",
              "</div>\n",
              "      <button class=\"colab-df-convert\" onclick=\"convertToInteractive('df-5e9c2eba-1e30-406b-b104-508d93ca0293')\"\n",
              "              title=\"Convert this dataframe to an interactive table.\"\n",
              "              style=\"display:none;\">\n",
              "        \n",
              "  <svg xmlns=\"http://www.w3.org/2000/svg\" height=\"24px\"viewBox=\"0 0 24 24\"\n",
              "       width=\"24px\">\n",
              "    <path d=\"M0 0h24v24H0V0z\" fill=\"none\"/>\n",
              "    <path d=\"M18.56 5.44l.94 2.06.94-2.06 2.06-.94-2.06-.94-.94-2.06-.94 2.06-2.06.94zm-11 1L8.5 8.5l.94-2.06 2.06-.94-2.06-.94L8.5 2.5l-.94 2.06-2.06.94zm10 10l.94 2.06.94-2.06 2.06-.94-2.06-.94-.94-2.06-.94 2.06-2.06.94z\"/><path d=\"M17.41 7.96l-1.37-1.37c-.4-.4-.92-.59-1.43-.59-.52 0-1.04.2-1.43.59L10.3 9.45l-7.72 7.72c-.78.78-.78 2.05 0 2.83L4 21.41c.39.39.9.59 1.41.59.51 0 1.02-.2 1.41-.59l7.78-7.78 2.81-2.81c.8-.78.8-2.07 0-2.86zM5.41 20L4 18.59l7.72-7.72 1.47 1.35L5.41 20z\"/>\n",
              "  </svg>\n",
              "      </button>\n",
              "      \n",
              "  <style>\n",
              "    .colab-df-container {\n",
              "      display:flex;\n",
              "      flex-wrap:wrap;\n",
              "      gap: 12px;\n",
              "    }\n",
              "\n",
              "    .colab-df-convert {\n",
              "      background-color: #E8F0FE;\n",
              "      border: none;\n",
              "      border-radius: 50%;\n",
              "      cursor: pointer;\n",
              "      display: none;\n",
              "      fill: #1967D2;\n",
              "      height: 32px;\n",
              "      padding: 0 0 0 0;\n",
              "      width: 32px;\n",
              "    }\n",
              "\n",
              "    .colab-df-convert:hover {\n",
              "      background-color: #E2EBFA;\n",
              "      box-shadow: 0px 1px 2px rgba(60, 64, 67, 0.3), 0px 1px 3px 1px rgba(60, 64, 67, 0.15);\n",
              "      fill: #174EA6;\n",
              "    }\n",
              "\n",
              "    [theme=dark] .colab-df-convert {\n",
              "      background-color: #3B4455;\n",
              "      fill: #D2E3FC;\n",
              "    }\n",
              "\n",
              "    [theme=dark] .colab-df-convert:hover {\n",
              "      background-color: #434B5C;\n",
              "      box-shadow: 0px 1px 3px 1px rgba(0, 0, 0, 0.15);\n",
              "      filter: drop-shadow(0px 1px 2px rgba(0, 0, 0, 0.3));\n",
              "      fill: #FFFFFF;\n",
              "    }\n",
              "  </style>\n",
              "\n",
              "      <script>\n",
              "        const buttonEl =\n",
              "          document.querySelector('#df-5e9c2eba-1e30-406b-b104-508d93ca0293 button.colab-df-convert');\n",
              "        buttonEl.style.display =\n",
              "          google.colab.kernel.accessAllowed ? 'block' : 'none';\n",
              "\n",
              "        async function convertToInteractive(key) {\n",
              "          const element = document.querySelector('#df-5e9c2eba-1e30-406b-b104-508d93ca0293');\n",
              "          const dataTable =\n",
              "            await google.colab.kernel.invokeFunction('convertToInteractive',\n",
              "                                                     [key], {});\n",
              "          if (!dataTable) return;\n",
              "\n",
              "          const docLinkHtml = 'Like what you see? Visit the ' +\n",
              "            '<a target=\"_blank\" href=https://colab.research.google.com/notebooks/data_table.ipynb>data table notebook</a>'\n",
              "            + ' to learn more about interactive tables.';\n",
              "          element.innerHTML = '';\n",
              "          dataTable['output_type'] = 'display_data';\n",
              "          await google.colab.output.renderOutput(dataTable, element);\n",
              "          const docLink = document.createElement('div');\n",
              "          docLink.innerHTML = docLinkHtml;\n",
              "          element.appendChild(docLink);\n",
              "        }\n",
              "      </script>\n",
              "    </div>\n",
              "  </div>\n",
              "  "
            ]
          },
          "metadata": {},
          "execution_count": 3
        }
      ]
    },
    {
      "cell_type": "code",
      "source": [
        "dataframe.columns"
      ],
      "metadata": {
        "colab": {
          "base_uri": "https://localhost:8080/"
        },
        "id": "84gApqUnjw0T",
        "outputId": "ab3165ab-6e93-4a4e-cefd-b41954b84482"
      },
      "execution_count": null,
      "outputs": [
        {
          "output_type": "execute_result",
          "data": {
            "text/plain": [
              "Index(['Unnamed: 0', 'MSZoning', 'Street', 'LotShape', 'LandContour',\n",
              "       'Utilities', 'LotConfig', 'LandSlope', 'Neighborhood', 'Condition1',\n",
              "       'Condition2', 'BldgType', 'HouseStyle', 'RoofStyle', 'RoofMatl',\n",
              "       'Exterior1st', 'Exterior2nd', 'MasVnrType', 'ExterQual', 'ExterCond',\n",
              "       'Foundation', 'BsmtQual', 'BsmtCond', 'BsmtExposure', 'BsmtFinType1',\n",
              "       'BsmtFinType2', 'Heating', 'HeatingQC', 'CentralAir', 'Electrical',\n",
              "       'KitchenQual', 'Functional', 'FireplaceQu', 'GarageType',\n",
              "       'GarageFinish', 'GarageQual', 'GarageCond', 'PavedDrive', 'SaleType',\n",
              "       'SaleCondition', 'MSSubClass', 'LotFrontage', 'LotArea', 'OverallQual',\n",
              "       'OverallCond', 'YearBuilt', 'YearRemodAdd', 'MasVnrArea', 'BsmtFinSF1',\n",
              "       'BsmtFinSF2', 'BsmtUnfSF', 'TotalBsmtSF', '1stFlrSF', '2ndFlrSF',\n",
              "       'LowQualFinSF', 'GrLivArea', 'BsmtFullBath', 'BsmtHalfBath', 'FullBath',\n",
              "       'HalfBath', 'BedroomAbvGr', 'KitchenAbvGr', 'TotRmsAbvGrd',\n",
              "       'Fireplaces', 'GarageYrBlt', 'GarageCars', 'GarageArea', 'WoodDeckSF',\n",
              "       'OpenPorchSF', 'EnclosedPorch', '3SsnPorch', 'ScreenPorch', 'PoolArea',\n",
              "       'MiscVal', 'MoSold', 'YrSold', 'SalePrice', 'Age_House',\n",
              "       'TotalBsmtBath', 'TotalBath', 'TotalSA'],\n",
              "      dtype='object')"
            ]
          },
          "metadata": {},
          "execution_count": 4
        }
      ]
    },
    {
      "cell_type": "code",
      "source": [
        "dataframe = dataframe.drop(['Unnamed: 0'], axis = 1)\n",
        "dataframe"
      ],
      "metadata": {
        "colab": {
          "base_uri": "https://localhost:8080/",
          "height": 488
        },
        "id": "d2aYRwt-jyYR",
        "outputId": "fdadc46f-398b-441f-f958-ca22baed273d"
      },
      "execution_count": null,
      "outputs": [
        {
          "output_type": "execute_result",
          "data": {
            "text/plain": [
              "      MSZoning  Street  LotShape  LandContour  Utilities  LotConfig  \\\n",
              "0            3       1         3            3          0          4   \n",
              "1            3       1         3            3          0          2   \n",
              "2            3       1         2            3          0          4   \n",
              "3            3       1         2            3          0          0   \n",
              "4            3       1         2            3          0          2   \n",
              "...        ...     ...       ...          ...        ...        ...   \n",
              "1455         3       1         3            3          0          4   \n",
              "1456         3       1         3            3          0          4   \n",
              "1457         3       1         3            3          0          4   \n",
              "1458         3       1         3            3          0          4   \n",
              "1459         3       1         3            3          0          4   \n",
              "\n",
              "      LandSlope  Neighborhood  Condition1  Condition2  ...  ScreenPorch  \\\n",
              "0             0             5           2           2  ...            0   \n",
              "1             0            24           1           2  ...            0   \n",
              "2             0             5           2           2  ...            0   \n",
              "3             0             6           2           2  ...            0   \n",
              "4             0            15           2           2  ...            0   \n",
              "...         ...           ...         ...         ...  ...          ...   \n",
              "1455          0             8           2           2  ...            0   \n",
              "1456          0            14           2           2  ...            0   \n",
              "1457          0             6           2           2  ...            0   \n",
              "1458          0            12           2           2  ...            0   \n",
              "1459          0             7           2           2  ...            0   \n",
              "\n",
              "      PoolArea  MiscVal  MoSold  YrSold  SalePrice  Age_House  TotalBsmtBath  \\\n",
              "0            0        0       2    2008   208500.0          5            1.5   \n",
              "1            0        0       5    2007   181500.0         31            0.0   \n",
              "2            0        0       9    2008   223500.0          7            1.5   \n",
              "3            0        0       2    2006   140000.0         91            1.5   \n",
              "4            0        0      12    2008   250000.0          8            1.5   \n",
              "...        ...      ...     ...     ...        ...        ...            ...   \n",
              "1455         0        0       8    2007   175000.0          8            0.0   \n",
              "1456         0        0       2    2010   210000.0         32            1.5   \n",
              "1457         0     2500       5    2010   266500.0         69            0.0   \n",
              "1458         0        0       4    2010   142125.0         60            1.5   \n",
              "1459         0        0       6    2008   147500.0         43            1.5   \n",
              "\n",
              "      TotalBath  TotalSA  \n",
              "0           2.5   2566.0  \n",
              "1           2.0   2524.0  \n",
              "2           2.5   2706.0  \n",
              "3           1.0   2473.0  \n",
              "4           2.5   3343.0  \n",
              "...         ...      ...  \n",
              "1455        2.5   2600.0  \n",
              "1456        2.0   3615.0  \n",
              "1457        2.0   3492.0  \n",
              "1458        1.0   2156.0  \n",
              "1459        1.5   2512.0  \n",
              "\n",
              "[1460 rows x 80 columns]"
            ],
            "text/html": [
              "\n",
              "  <div id=\"df-b909f853-0e00-485c-97b7-907a897a984f\">\n",
              "    <div class=\"colab-df-container\">\n",
              "      <div>\n",
              "<style scoped>\n",
              "    .dataframe tbody tr th:only-of-type {\n",
              "        vertical-align: middle;\n",
              "    }\n",
              "\n",
              "    .dataframe tbody tr th {\n",
              "        vertical-align: top;\n",
              "    }\n",
              "\n",
              "    .dataframe thead th {\n",
              "        text-align: right;\n",
              "    }\n",
              "</style>\n",
              "<table border=\"1\" class=\"dataframe\">\n",
              "  <thead>\n",
              "    <tr style=\"text-align: right;\">\n",
              "      <th></th>\n",
              "      <th>MSZoning</th>\n",
              "      <th>Street</th>\n",
              "      <th>LotShape</th>\n",
              "      <th>LandContour</th>\n",
              "      <th>Utilities</th>\n",
              "      <th>LotConfig</th>\n",
              "      <th>LandSlope</th>\n",
              "      <th>Neighborhood</th>\n",
              "      <th>Condition1</th>\n",
              "      <th>Condition2</th>\n",
              "      <th>...</th>\n",
              "      <th>ScreenPorch</th>\n",
              "      <th>PoolArea</th>\n",
              "      <th>MiscVal</th>\n",
              "      <th>MoSold</th>\n",
              "      <th>YrSold</th>\n",
              "      <th>SalePrice</th>\n",
              "      <th>Age_House</th>\n",
              "      <th>TotalBsmtBath</th>\n",
              "      <th>TotalBath</th>\n",
              "      <th>TotalSA</th>\n",
              "    </tr>\n",
              "  </thead>\n",
              "  <tbody>\n",
              "    <tr>\n",
              "      <th>0</th>\n",
              "      <td>3</td>\n",
              "      <td>1</td>\n",
              "      <td>3</td>\n",
              "      <td>3</td>\n",
              "      <td>0</td>\n",
              "      <td>4</td>\n",
              "      <td>0</td>\n",
              "      <td>5</td>\n",
              "      <td>2</td>\n",
              "      <td>2</td>\n",
              "      <td>...</td>\n",
              "      <td>0</td>\n",
              "      <td>0</td>\n",
              "      <td>0</td>\n",
              "      <td>2</td>\n",
              "      <td>2008</td>\n",
              "      <td>208500.0</td>\n",
              "      <td>5</td>\n",
              "      <td>1.5</td>\n",
              "      <td>2.5</td>\n",
              "      <td>2566.0</td>\n",
              "    </tr>\n",
              "    <tr>\n",
              "      <th>1</th>\n",
              "      <td>3</td>\n",
              "      <td>1</td>\n",
              "      <td>3</td>\n",
              "      <td>3</td>\n",
              "      <td>0</td>\n",
              "      <td>2</td>\n",
              "      <td>0</td>\n",
              "      <td>24</td>\n",
              "      <td>1</td>\n",
              "      <td>2</td>\n",
              "      <td>...</td>\n",
              "      <td>0</td>\n",
              "      <td>0</td>\n",
              "      <td>0</td>\n",
              "      <td>5</td>\n",
              "      <td>2007</td>\n",
              "      <td>181500.0</td>\n",
              "      <td>31</td>\n",
              "      <td>0.0</td>\n",
              "      <td>2.0</td>\n",
              "      <td>2524.0</td>\n",
              "    </tr>\n",
              "    <tr>\n",
              "      <th>2</th>\n",
              "      <td>3</td>\n",
              "      <td>1</td>\n",
              "      <td>2</td>\n",
              "      <td>3</td>\n",
              "      <td>0</td>\n",
              "      <td>4</td>\n",
              "      <td>0</td>\n",
              "      <td>5</td>\n",
              "      <td>2</td>\n",
              "      <td>2</td>\n",
              "      <td>...</td>\n",
              "      <td>0</td>\n",
              "      <td>0</td>\n",
              "      <td>0</td>\n",
              "      <td>9</td>\n",
              "      <td>2008</td>\n",
              "      <td>223500.0</td>\n",
              "      <td>7</td>\n",
              "      <td>1.5</td>\n",
              "      <td>2.5</td>\n",
              "      <td>2706.0</td>\n",
              "    </tr>\n",
              "    <tr>\n",
              "      <th>3</th>\n",
              "      <td>3</td>\n",
              "      <td>1</td>\n",
              "      <td>2</td>\n",
              "      <td>3</td>\n",
              "      <td>0</td>\n",
              "      <td>0</td>\n",
              "      <td>0</td>\n",
              "      <td>6</td>\n",
              "      <td>2</td>\n",
              "      <td>2</td>\n",
              "      <td>...</td>\n",
              "      <td>0</td>\n",
              "      <td>0</td>\n",
              "      <td>0</td>\n",
              "      <td>2</td>\n",
              "      <td>2006</td>\n",
              "      <td>140000.0</td>\n",
              "      <td>91</td>\n",
              "      <td>1.5</td>\n",
              "      <td>1.0</td>\n",
              "      <td>2473.0</td>\n",
              "    </tr>\n",
              "    <tr>\n",
              "      <th>4</th>\n",
              "      <td>3</td>\n",
              "      <td>1</td>\n",
              "      <td>2</td>\n",
              "      <td>3</td>\n",
              "      <td>0</td>\n",
              "      <td>2</td>\n",
              "      <td>0</td>\n",
              "      <td>15</td>\n",
              "      <td>2</td>\n",
              "      <td>2</td>\n",
              "      <td>...</td>\n",
              "      <td>0</td>\n",
              "      <td>0</td>\n",
              "      <td>0</td>\n",
              "      <td>12</td>\n",
              "      <td>2008</td>\n",
              "      <td>250000.0</td>\n",
              "      <td>8</td>\n",
              "      <td>1.5</td>\n",
              "      <td>2.5</td>\n",
              "      <td>3343.0</td>\n",
              "    </tr>\n",
              "    <tr>\n",
              "      <th>...</th>\n",
              "      <td>...</td>\n",
              "      <td>...</td>\n",
              "      <td>...</td>\n",
              "      <td>...</td>\n",
              "      <td>...</td>\n",
              "      <td>...</td>\n",
              "      <td>...</td>\n",
              "      <td>...</td>\n",
              "      <td>...</td>\n",
              "      <td>...</td>\n",
              "      <td>...</td>\n",
              "      <td>...</td>\n",
              "      <td>...</td>\n",
              "      <td>...</td>\n",
              "      <td>...</td>\n",
              "      <td>...</td>\n",
              "      <td>...</td>\n",
              "      <td>...</td>\n",
              "      <td>...</td>\n",
              "      <td>...</td>\n",
              "      <td>...</td>\n",
              "    </tr>\n",
              "    <tr>\n",
              "      <th>1455</th>\n",
              "      <td>3</td>\n",
              "      <td>1</td>\n",
              "      <td>3</td>\n",
              "      <td>3</td>\n",
              "      <td>0</td>\n",
              "      <td>4</td>\n",
              "      <td>0</td>\n",
              "      <td>8</td>\n",
              "      <td>2</td>\n",
              "      <td>2</td>\n",
              "      <td>...</td>\n",
              "      <td>0</td>\n",
              "      <td>0</td>\n",
              "      <td>0</td>\n",
              "      <td>8</td>\n",
              "      <td>2007</td>\n",
              "      <td>175000.0</td>\n",
              "      <td>8</td>\n",
              "      <td>0.0</td>\n",
              "      <td>2.5</td>\n",
              "      <td>2600.0</td>\n",
              "    </tr>\n",
              "    <tr>\n",
              "      <th>1456</th>\n",
              "      <td>3</td>\n",
              "      <td>1</td>\n",
              "      <td>3</td>\n",
              "      <td>3</td>\n",
              "      <td>0</td>\n",
              "      <td>4</td>\n",
              "      <td>0</td>\n",
              "      <td>14</td>\n",
              "      <td>2</td>\n",
              "      <td>2</td>\n",
              "      <td>...</td>\n",
              "      <td>0</td>\n",
              "      <td>0</td>\n",
              "      <td>0</td>\n",
              "      <td>2</td>\n",
              "      <td>2010</td>\n",
              "      <td>210000.0</td>\n",
              "      <td>32</td>\n",
              "      <td>1.5</td>\n",
              "      <td>2.0</td>\n",
              "      <td>3615.0</td>\n",
              "    </tr>\n",
              "    <tr>\n",
              "      <th>1457</th>\n",
              "      <td>3</td>\n",
              "      <td>1</td>\n",
              "      <td>3</td>\n",
              "      <td>3</td>\n",
              "      <td>0</td>\n",
              "      <td>4</td>\n",
              "      <td>0</td>\n",
              "      <td>6</td>\n",
              "      <td>2</td>\n",
              "      <td>2</td>\n",
              "      <td>...</td>\n",
              "      <td>0</td>\n",
              "      <td>0</td>\n",
              "      <td>2500</td>\n",
              "      <td>5</td>\n",
              "      <td>2010</td>\n",
              "      <td>266500.0</td>\n",
              "      <td>69</td>\n",
              "      <td>0.0</td>\n",
              "      <td>2.0</td>\n",
              "      <td>3492.0</td>\n",
              "    </tr>\n",
              "    <tr>\n",
              "      <th>1458</th>\n",
              "      <td>3</td>\n",
              "      <td>1</td>\n",
              "      <td>3</td>\n",
              "      <td>3</td>\n",
              "      <td>0</td>\n",
              "      <td>4</td>\n",
              "      <td>0</td>\n",
              "      <td>12</td>\n",
              "      <td>2</td>\n",
              "      <td>2</td>\n",
              "      <td>...</td>\n",
              "      <td>0</td>\n",
              "      <td>0</td>\n",
              "      <td>0</td>\n",
              "      <td>4</td>\n",
              "      <td>2010</td>\n",
              "      <td>142125.0</td>\n",
              "      <td>60</td>\n",
              "      <td>1.5</td>\n",
              "      <td>1.0</td>\n",
              "      <td>2156.0</td>\n",
              "    </tr>\n",
              "    <tr>\n",
              "      <th>1459</th>\n",
              "      <td>3</td>\n",
              "      <td>1</td>\n",
              "      <td>3</td>\n",
              "      <td>3</td>\n",
              "      <td>0</td>\n",
              "      <td>4</td>\n",
              "      <td>0</td>\n",
              "      <td>7</td>\n",
              "      <td>2</td>\n",
              "      <td>2</td>\n",
              "      <td>...</td>\n",
              "      <td>0</td>\n",
              "      <td>0</td>\n",
              "      <td>0</td>\n",
              "      <td>6</td>\n",
              "      <td>2008</td>\n",
              "      <td>147500.0</td>\n",
              "      <td>43</td>\n",
              "      <td>1.5</td>\n",
              "      <td>1.5</td>\n",
              "      <td>2512.0</td>\n",
              "    </tr>\n",
              "  </tbody>\n",
              "</table>\n",
              "<p>1460 rows × 80 columns</p>\n",
              "</div>\n",
              "      <button class=\"colab-df-convert\" onclick=\"convertToInteractive('df-b909f853-0e00-485c-97b7-907a897a984f')\"\n",
              "              title=\"Convert this dataframe to an interactive table.\"\n",
              "              style=\"display:none;\">\n",
              "        \n",
              "  <svg xmlns=\"http://www.w3.org/2000/svg\" height=\"24px\"viewBox=\"0 0 24 24\"\n",
              "       width=\"24px\">\n",
              "    <path d=\"M0 0h24v24H0V0z\" fill=\"none\"/>\n",
              "    <path d=\"M18.56 5.44l.94 2.06.94-2.06 2.06-.94-2.06-.94-.94-2.06-.94 2.06-2.06.94zm-11 1L8.5 8.5l.94-2.06 2.06-.94-2.06-.94L8.5 2.5l-.94 2.06-2.06.94zm10 10l.94 2.06.94-2.06 2.06-.94-2.06-.94-.94-2.06-.94 2.06-2.06.94z\"/><path d=\"M17.41 7.96l-1.37-1.37c-.4-.4-.92-.59-1.43-.59-.52 0-1.04.2-1.43.59L10.3 9.45l-7.72 7.72c-.78.78-.78 2.05 0 2.83L4 21.41c.39.39.9.59 1.41.59.51 0 1.02-.2 1.41-.59l7.78-7.78 2.81-2.81c.8-.78.8-2.07 0-2.86zM5.41 20L4 18.59l7.72-7.72 1.47 1.35L5.41 20z\"/>\n",
              "  </svg>\n",
              "      </button>\n",
              "      \n",
              "  <style>\n",
              "    .colab-df-container {\n",
              "      display:flex;\n",
              "      flex-wrap:wrap;\n",
              "      gap: 12px;\n",
              "    }\n",
              "\n",
              "    .colab-df-convert {\n",
              "      background-color: #E8F0FE;\n",
              "      border: none;\n",
              "      border-radius: 50%;\n",
              "      cursor: pointer;\n",
              "      display: none;\n",
              "      fill: #1967D2;\n",
              "      height: 32px;\n",
              "      padding: 0 0 0 0;\n",
              "      width: 32px;\n",
              "    }\n",
              "\n",
              "    .colab-df-convert:hover {\n",
              "      background-color: #E2EBFA;\n",
              "      box-shadow: 0px 1px 2px rgba(60, 64, 67, 0.3), 0px 1px 3px 1px rgba(60, 64, 67, 0.15);\n",
              "      fill: #174EA6;\n",
              "    }\n",
              "\n",
              "    [theme=dark] .colab-df-convert {\n",
              "      background-color: #3B4455;\n",
              "      fill: #D2E3FC;\n",
              "    }\n",
              "\n",
              "    [theme=dark] .colab-df-convert:hover {\n",
              "      background-color: #434B5C;\n",
              "      box-shadow: 0px 1px 3px 1px rgba(0, 0, 0, 0.15);\n",
              "      filter: drop-shadow(0px 1px 2px rgba(0, 0, 0, 0.3));\n",
              "      fill: #FFFFFF;\n",
              "    }\n",
              "  </style>\n",
              "\n",
              "      <script>\n",
              "        const buttonEl =\n",
              "          document.querySelector('#df-b909f853-0e00-485c-97b7-907a897a984f button.colab-df-convert');\n",
              "        buttonEl.style.display =\n",
              "          google.colab.kernel.accessAllowed ? 'block' : 'none';\n",
              "\n",
              "        async function convertToInteractive(key) {\n",
              "          const element = document.querySelector('#df-b909f853-0e00-485c-97b7-907a897a984f');\n",
              "          const dataTable =\n",
              "            await google.colab.kernel.invokeFunction('convertToInteractive',\n",
              "                                                     [key], {});\n",
              "          if (!dataTable) return;\n",
              "\n",
              "          const docLinkHtml = 'Like what you see? Visit the ' +\n",
              "            '<a target=\"_blank\" href=https://colab.research.google.com/notebooks/data_table.ipynb>data table notebook</a>'\n",
              "            + ' to learn more about interactive tables.';\n",
              "          element.innerHTML = '';\n",
              "          dataTable['output_type'] = 'display_data';\n",
              "          await google.colab.output.renderOutput(dataTable, element);\n",
              "          const docLink = document.createElement('div');\n",
              "          docLink.innerHTML = docLinkHtml;\n",
              "          element.appendChild(docLink);\n",
              "        }\n",
              "      </script>\n",
              "    </div>\n",
              "  </div>\n",
              "  "
            ]
          },
          "metadata": {},
          "execution_count": 5
        }
      ]
    },
    {
      "cell_type": "code",
      "source": [
        "X = dataframe.drop(['SalePrice'], axis=1)\n",
        "y = dataframe['SalePrice']"
      ],
      "metadata": {
        "id": "jHUcmgaRkHKx"
      },
      "execution_count": null,
      "outputs": []
    },
    {
      "cell_type": "code",
      "source": [
        "normalized_X=(X-X.min())/(X.max()-X.min())\n",
        "normalized_X"
      ],
      "metadata": {
        "colab": {
          "base_uri": "https://localhost:8080/",
          "height": 488
        },
        "id": "0IuysKwEkLoy",
        "outputId": "a8e15a40-3b7d-49ba-d25e-6f89840c07c1"
      },
      "execution_count": null,
      "outputs": [
        {
          "output_type": "execute_result",
          "data": {
            "text/plain": [
              "      MSZoning  Street  LotShape  LandContour  Utilities  LotConfig  \\\n",
              "0         0.75     1.0  1.000000          1.0        0.0        1.0   \n",
              "1         0.75     1.0  1.000000          1.0        0.0        0.5   \n",
              "2         0.75     1.0  0.666667          1.0        0.0        1.0   \n",
              "3         0.75     1.0  0.666667          1.0        0.0        0.0   \n",
              "4         0.75     1.0  0.666667          1.0        0.0        0.5   \n",
              "...        ...     ...       ...          ...        ...        ...   \n",
              "1455      0.75     1.0  1.000000          1.0        0.0        1.0   \n",
              "1456      0.75     1.0  1.000000          1.0        0.0        1.0   \n",
              "1457      0.75     1.0  1.000000          1.0        0.0        1.0   \n",
              "1458      0.75     1.0  1.000000          1.0        0.0        1.0   \n",
              "1459      0.75     1.0  1.000000          1.0        0.0        1.0   \n",
              "\n",
              "      LandSlope  Neighborhood  Condition1  Condition2  ...  3SsnPorch  \\\n",
              "0           0.0      0.208333       0.250    0.285714  ...        0.0   \n",
              "1           0.0      1.000000       0.125    0.285714  ...        0.0   \n",
              "2           0.0      0.208333       0.250    0.285714  ...        0.0   \n",
              "3           0.0      0.250000       0.250    0.285714  ...        0.0   \n",
              "4           0.0      0.625000       0.250    0.285714  ...        0.0   \n",
              "...         ...           ...         ...         ...  ...        ...   \n",
              "1455        0.0      0.333333       0.250    0.285714  ...        0.0   \n",
              "1456        0.0      0.583333       0.250    0.285714  ...        0.0   \n",
              "1457        0.0      0.250000       0.250    0.285714  ...        0.0   \n",
              "1458        0.0      0.500000       0.250    0.285714  ...        0.0   \n",
              "1459        0.0      0.291667       0.250    0.285714  ...        0.0   \n",
              "\n",
              "      ScreenPorch  PoolArea  MiscVal    MoSold  YrSold  Age_House  \\\n",
              "0             0.0       0.0  0.00000  0.090909    0.50   0.036765   \n",
              "1             0.0       0.0  0.00000  0.363636    0.25   0.227941   \n",
              "2             0.0       0.0  0.00000  0.727273    0.50   0.051471   \n",
              "3             0.0       0.0  0.00000  0.090909    0.00   0.669118   \n",
              "4             0.0       0.0  0.00000  1.000000    0.50   0.058824   \n",
              "...           ...       ...      ...       ...     ...        ...   \n",
              "1455          0.0       0.0  0.00000  0.636364    0.25   0.058824   \n",
              "1456          0.0       0.0  0.00000  0.090909    1.00   0.235294   \n",
              "1457          0.0       0.0  0.16129  0.363636    1.00   0.507353   \n",
              "1458          0.0       0.0  0.00000  0.272727    1.00   0.441176   \n",
              "1459          0.0       0.0  0.00000  0.454545    0.50   0.316176   \n",
              "\n",
              "      TotalBsmtBath  TotalBath   TotalSA  \n",
              "0          0.333333   0.714286  0.195481  \n",
              "1          0.000000   0.571429  0.191802  \n",
              "2          0.333333   0.714286  0.207742  \n",
              "3          0.333333   0.285714  0.187336  \n",
              "4          0.333333   0.714286  0.263531  \n",
              "...             ...        ...       ...  \n",
              "1455       0.000000   0.714286  0.198459  \n",
              "1456       0.333333   0.571429  0.287353  \n",
              "1457       0.000000   0.571429  0.276581  \n",
              "1458       0.333333   0.285714  0.159573  \n",
              "1459       0.333333   0.428571  0.190751  \n",
              "\n",
              "[1460 rows x 79 columns]"
            ],
            "text/html": [
              "\n",
              "  <div id=\"df-5b887350-3184-4165-bcff-9fce23d0d48d\">\n",
              "    <div class=\"colab-df-container\">\n",
              "      <div>\n",
              "<style scoped>\n",
              "    .dataframe tbody tr th:only-of-type {\n",
              "        vertical-align: middle;\n",
              "    }\n",
              "\n",
              "    .dataframe tbody tr th {\n",
              "        vertical-align: top;\n",
              "    }\n",
              "\n",
              "    .dataframe thead th {\n",
              "        text-align: right;\n",
              "    }\n",
              "</style>\n",
              "<table border=\"1\" class=\"dataframe\">\n",
              "  <thead>\n",
              "    <tr style=\"text-align: right;\">\n",
              "      <th></th>\n",
              "      <th>MSZoning</th>\n",
              "      <th>Street</th>\n",
              "      <th>LotShape</th>\n",
              "      <th>LandContour</th>\n",
              "      <th>Utilities</th>\n",
              "      <th>LotConfig</th>\n",
              "      <th>LandSlope</th>\n",
              "      <th>Neighborhood</th>\n",
              "      <th>Condition1</th>\n",
              "      <th>Condition2</th>\n",
              "      <th>...</th>\n",
              "      <th>3SsnPorch</th>\n",
              "      <th>ScreenPorch</th>\n",
              "      <th>PoolArea</th>\n",
              "      <th>MiscVal</th>\n",
              "      <th>MoSold</th>\n",
              "      <th>YrSold</th>\n",
              "      <th>Age_House</th>\n",
              "      <th>TotalBsmtBath</th>\n",
              "      <th>TotalBath</th>\n",
              "      <th>TotalSA</th>\n",
              "    </tr>\n",
              "  </thead>\n",
              "  <tbody>\n",
              "    <tr>\n",
              "      <th>0</th>\n",
              "      <td>0.75</td>\n",
              "      <td>1.0</td>\n",
              "      <td>1.000000</td>\n",
              "      <td>1.0</td>\n",
              "      <td>0.0</td>\n",
              "      <td>1.0</td>\n",
              "      <td>0.0</td>\n",
              "      <td>0.208333</td>\n",
              "      <td>0.250</td>\n",
              "      <td>0.285714</td>\n",
              "      <td>...</td>\n",
              "      <td>0.0</td>\n",
              "      <td>0.0</td>\n",
              "      <td>0.0</td>\n",
              "      <td>0.00000</td>\n",
              "      <td>0.090909</td>\n",
              "      <td>0.50</td>\n",
              "      <td>0.036765</td>\n",
              "      <td>0.333333</td>\n",
              "      <td>0.714286</td>\n",
              "      <td>0.195481</td>\n",
              "    </tr>\n",
              "    <tr>\n",
              "      <th>1</th>\n",
              "      <td>0.75</td>\n",
              "      <td>1.0</td>\n",
              "      <td>1.000000</td>\n",
              "      <td>1.0</td>\n",
              "      <td>0.0</td>\n",
              "      <td>0.5</td>\n",
              "      <td>0.0</td>\n",
              "      <td>1.000000</td>\n",
              "      <td>0.125</td>\n",
              "      <td>0.285714</td>\n",
              "      <td>...</td>\n",
              "      <td>0.0</td>\n",
              "      <td>0.0</td>\n",
              "      <td>0.0</td>\n",
              "      <td>0.00000</td>\n",
              "      <td>0.363636</td>\n",
              "      <td>0.25</td>\n",
              "      <td>0.227941</td>\n",
              "      <td>0.000000</td>\n",
              "      <td>0.571429</td>\n",
              "      <td>0.191802</td>\n",
              "    </tr>\n",
              "    <tr>\n",
              "      <th>2</th>\n",
              "      <td>0.75</td>\n",
              "      <td>1.0</td>\n",
              "      <td>0.666667</td>\n",
              "      <td>1.0</td>\n",
              "      <td>0.0</td>\n",
              "      <td>1.0</td>\n",
              "      <td>0.0</td>\n",
              "      <td>0.208333</td>\n",
              "      <td>0.250</td>\n",
              "      <td>0.285714</td>\n",
              "      <td>...</td>\n",
              "      <td>0.0</td>\n",
              "      <td>0.0</td>\n",
              "      <td>0.0</td>\n",
              "      <td>0.00000</td>\n",
              "      <td>0.727273</td>\n",
              "      <td>0.50</td>\n",
              "      <td>0.051471</td>\n",
              "      <td>0.333333</td>\n",
              "      <td>0.714286</td>\n",
              "      <td>0.207742</td>\n",
              "    </tr>\n",
              "    <tr>\n",
              "      <th>3</th>\n",
              "      <td>0.75</td>\n",
              "      <td>1.0</td>\n",
              "      <td>0.666667</td>\n",
              "      <td>1.0</td>\n",
              "      <td>0.0</td>\n",
              "      <td>0.0</td>\n",
              "      <td>0.0</td>\n",
              "      <td>0.250000</td>\n",
              "      <td>0.250</td>\n",
              "      <td>0.285714</td>\n",
              "      <td>...</td>\n",
              "      <td>0.0</td>\n",
              "      <td>0.0</td>\n",
              "      <td>0.0</td>\n",
              "      <td>0.00000</td>\n",
              "      <td>0.090909</td>\n",
              "      <td>0.00</td>\n",
              "      <td>0.669118</td>\n",
              "      <td>0.333333</td>\n",
              "      <td>0.285714</td>\n",
              "      <td>0.187336</td>\n",
              "    </tr>\n",
              "    <tr>\n",
              "      <th>4</th>\n",
              "      <td>0.75</td>\n",
              "      <td>1.0</td>\n",
              "      <td>0.666667</td>\n",
              "      <td>1.0</td>\n",
              "      <td>0.0</td>\n",
              "      <td>0.5</td>\n",
              "      <td>0.0</td>\n",
              "      <td>0.625000</td>\n",
              "      <td>0.250</td>\n",
              "      <td>0.285714</td>\n",
              "      <td>...</td>\n",
              "      <td>0.0</td>\n",
              "      <td>0.0</td>\n",
              "      <td>0.0</td>\n",
              "      <td>0.00000</td>\n",
              "      <td>1.000000</td>\n",
              "      <td>0.50</td>\n",
              "      <td>0.058824</td>\n",
              "      <td>0.333333</td>\n",
              "      <td>0.714286</td>\n",
              "      <td>0.263531</td>\n",
              "    </tr>\n",
              "    <tr>\n",
              "      <th>...</th>\n",
              "      <td>...</td>\n",
              "      <td>...</td>\n",
              "      <td>...</td>\n",
              "      <td>...</td>\n",
              "      <td>...</td>\n",
              "      <td>...</td>\n",
              "      <td>...</td>\n",
              "      <td>...</td>\n",
              "      <td>...</td>\n",
              "      <td>...</td>\n",
              "      <td>...</td>\n",
              "      <td>...</td>\n",
              "      <td>...</td>\n",
              "      <td>...</td>\n",
              "      <td>...</td>\n",
              "      <td>...</td>\n",
              "      <td>...</td>\n",
              "      <td>...</td>\n",
              "      <td>...</td>\n",
              "      <td>...</td>\n",
              "      <td>...</td>\n",
              "    </tr>\n",
              "    <tr>\n",
              "      <th>1455</th>\n",
              "      <td>0.75</td>\n",
              "      <td>1.0</td>\n",
              "      <td>1.000000</td>\n",
              "      <td>1.0</td>\n",
              "      <td>0.0</td>\n",
              "      <td>1.0</td>\n",
              "      <td>0.0</td>\n",
              "      <td>0.333333</td>\n",
              "      <td>0.250</td>\n",
              "      <td>0.285714</td>\n",
              "      <td>...</td>\n",
              "      <td>0.0</td>\n",
              "      <td>0.0</td>\n",
              "      <td>0.0</td>\n",
              "      <td>0.00000</td>\n",
              "      <td>0.636364</td>\n",
              "      <td>0.25</td>\n",
              "      <td>0.058824</td>\n",
              "      <td>0.000000</td>\n",
              "      <td>0.714286</td>\n",
              "      <td>0.198459</td>\n",
              "    </tr>\n",
              "    <tr>\n",
              "      <th>1456</th>\n",
              "      <td>0.75</td>\n",
              "      <td>1.0</td>\n",
              "      <td>1.000000</td>\n",
              "      <td>1.0</td>\n",
              "      <td>0.0</td>\n",
              "      <td>1.0</td>\n",
              "      <td>0.0</td>\n",
              "      <td>0.583333</td>\n",
              "      <td>0.250</td>\n",
              "      <td>0.285714</td>\n",
              "      <td>...</td>\n",
              "      <td>0.0</td>\n",
              "      <td>0.0</td>\n",
              "      <td>0.0</td>\n",
              "      <td>0.00000</td>\n",
              "      <td>0.090909</td>\n",
              "      <td>1.00</td>\n",
              "      <td>0.235294</td>\n",
              "      <td>0.333333</td>\n",
              "      <td>0.571429</td>\n",
              "      <td>0.287353</td>\n",
              "    </tr>\n",
              "    <tr>\n",
              "      <th>1457</th>\n",
              "      <td>0.75</td>\n",
              "      <td>1.0</td>\n",
              "      <td>1.000000</td>\n",
              "      <td>1.0</td>\n",
              "      <td>0.0</td>\n",
              "      <td>1.0</td>\n",
              "      <td>0.0</td>\n",
              "      <td>0.250000</td>\n",
              "      <td>0.250</td>\n",
              "      <td>0.285714</td>\n",
              "      <td>...</td>\n",
              "      <td>0.0</td>\n",
              "      <td>0.0</td>\n",
              "      <td>0.0</td>\n",
              "      <td>0.16129</td>\n",
              "      <td>0.363636</td>\n",
              "      <td>1.00</td>\n",
              "      <td>0.507353</td>\n",
              "      <td>0.000000</td>\n",
              "      <td>0.571429</td>\n",
              "      <td>0.276581</td>\n",
              "    </tr>\n",
              "    <tr>\n",
              "      <th>1458</th>\n",
              "      <td>0.75</td>\n",
              "      <td>1.0</td>\n",
              "      <td>1.000000</td>\n",
              "      <td>1.0</td>\n",
              "      <td>0.0</td>\n",
              "      <td>1.0</td>\n",
              "      <td>0.0</td>\n",
              "      <td>0.500000</td>\n",
              "      <td>0.250</td>\n",
              "      <td>0.285714</td>\n",
              "      <td>...</td>\n",
              "      <td>0.0</td>\n",
              "      <td>0.0</td>\n",
              "      <td>0.0</td>\n",
              "      <td>0.00000</td>\n",
              "      <td>0.272727</td>\n",
              "      <td>1.00</td>\n",
              "      <td>0.441176</td>\n",
              "      <td>0.333333</td>\n",
              "      <td>0.285714</td>\n",
              "      <td>0.159573</td>\n",
              "    </tr>\n",
              "    <tr>\n",
              "      <th>1459</th>\n",
              "      <td>0.75</td>\n",
              "      <td>1.0</td>\n",
              "      <td>1.000000</td>\n",
              "      <td>1.0</td>\n",
              "      <td>0.0</td>\n",
              "      <td>1.0</td>\n",
              "      <td>0.0</td>\n",
              "      <td>0.291667</td>\n",
              "      <td>0.250</td>\n",
              "      <td>0.285714</td>\n",
              "      <td>...</td>\n",
              "      <td>0.0</td>\n",
              "      <td>0.0</td>\n",
              "      <td>0.0</td>\n",
              "      <td>0.00000</td>\n",
              "      <td>0.454545</td>\n",
              "      <td>0.50</td>\n",
              "      <td>0.316176</td>\n",
              "      <td>0.333333</td>\n",
              "      <td>0.428571</td>\n",
              "      <td>0.190751</td>\n",
              "    </tr>\n",
              "  </tbody>\n",
              "</table>\n",
              "<p>1460 rows × 79 columns</p>\n",
              "</div>\n",
              "      <button class=\"colab-df-convert\" onclick=\"convertToInteractive('df-5b887350-3184-4165-bcff-9fce23d0d48d')\"\n",
              "              title=\"Convert this dataframe to an interactive table.\"\n",
              "              style=\"display:none;\">\n",
              "        \n",
              "  <svg xmlns=\"http://www.w3.org/2000/svg\" height=\"24px\"viewBox=\"0 0 24 24\"\n",
              "       width=\"24px\">\n",
              "    <path d=\"M0 0h24v24H0V0z\" fill=\"none\"/>\n",
              "    <path d=\"M18.56 5.44l.94 2.06.94-2.06 2.06-.94-2.06-.94-.94-2.06-.94 2.06-2.06.94zm-11 1L8.5 8.5l.94-2.06 2.06-.94-2.06-.94L8.5 2.5l-.94 2.06-2.06.94zm10 10l.94 2.06.94-2.06 2.06-.94-2.06-.94-.94-2.06-.94 2.06-2.06.94z\"/><path d=\"M17.41 7.96l-1.37-1.37c-.4-.4-.92-.59-1.43-.59-.52 0-1.04.2-1.43.59L10.3 9.45l-7.72 7.72c-.78.78-.78 2.05 0 2.83L4 21.41c.39.39.9.59 1.41.59.51 0 1.02-.2 1.41-.59l7.78-7.78 2.81-2.81c.8-.78.8-2.07 0-2.86zM5.41 20L4 18.59l7.72-7.72 1.47 1.35L5.41 20z\"/>\n",
              "  </svg>\n",
              "      </button>\n",
              "      \n",
              "  <style>\n",
              "    .colab-df-container {\n",
              "      display:flex;\n",
              "      flex-wrap:wrap;\n",
              "      gap: 12px;\n",
              "    }\n",
              "\n",
              "    .colab-df-convert {\n",
              "      background-color: #E8F0FE;\n",
              "      border: none;\n",
              "      border-radius: 50%;\n",
              "      cursor: pointer;\n",
              "      display: none;\n",
              "      fill: #1967D2;\n",
              "      height: 32px;\n",
              "      padding: 0 0 0 0;\n",
              "      width: 32px;\n",
              "    }\n",
              "\n",
              "    .colab-df-convert:hover {\n",
              "      background-color: #E2EBFA;\n",
              "      box-shadow: 0px 1px 2px rgba(60, 64, 67, 0.3), 0px 1px 3px 1px rgba(60, 64, 67, 0.15);\n",
              "      fill: #174EA6;\n",
              "    }\n",
              "\n",
              "    [theme=dark] .colab-df-convert {\n",
              "      background-color: #3B4455;\n",
              "      fill: #D2E3FC;\n",
              "    }\n",
              "\n",
              "    [theme=dark] .colab-df-convert:hover {\n",
              "      background-color: #434B5C;\n",
              "      box-shadow: 0px 1px 3px 1px rgba(0, 0, 0, 0.15);\n",
              "      filter: drop-shadow(0px 1px 2px rgba(0, 0, 0, 0.3));\n",
              "      fill: #FFFFFF;\n",
              "    }\n",
              "  </style>\n",
              "\n",
              "      <script>\n",
              "        const buttonEl =\n",
              "          document.querySelector('#df-5b887350-3184-4165-bcff-9fce23d0d48d button.colab-df-convert');\n",
              "        buttonEl.style.display =\n",
              "          google.colab.kernel.accessAllowed ? 'block' : 'none';\n",
              "\n",
              "        async function convertToInteractive(key) {\n",
              "          const element = document.querySelector('#df-5b887350-3184-4165-bcff-9fce23d0d48d');\n",
              "          const dataTable =\n",
              "            await google.colab.kernel.invokeFunction('convertToInteractive',\n",
              "                                                     [key], {});\n",
              "          if (!dataTable) return;\n",
              "\n",
              "          const docLinkHtml = 'Like what you see? Visit the ' +\n",
              "            '<a target=\"_blank\" href=https://colab.research.google.com/notebooks/data_table.ipynb>data table notebook</a>'\n",
              "            + ' to learn more about interactive tables.';\n",
              "          element.innerHTML = '';\n",
              "          dataTable['output_type'] = 'display_data';\n",
              "          await google.colab.output.renderOutput(dataTable, element);\n",
              "          const docLink = document.createElement('div');\n",
              "          docLink.innerHTML = docLinkHtml;\n",
              "          element.appendChild(docLink);\n",
              "        }\n",
              "      </script>\n",
              "    </div>\n",
              "  </div>\n",
              "  "
            ]
          },
          "metadata": {},
          "execution_count": 9
        }
      ]
    },
    {
      "cell_type": "code",
      "source": [
        "#split the features and labels into  train and test data\n",
        "X_train, X_test, y_train, y_test = train_test_split(normalized_X, y, test_size=0.2, random_state=1)"
      ],
      "metadata": {
        "id": "kjo-yLutkNOw"
      },
      "execution_count": null,
      "outputs": []
    },
    {
      "cell_type": "code",
      "source": [
        "names = [\"Random Forest Regressor\", \"KNeighbours Regressor\", \"Gradient Boosting Regressor\", \"XG Boost Regressor\", \"Linear Regression\"]"
      ],
      "metadata": {
        "id": "qKTmuqCykPah"
      },
      "execution_count": null,
      "outputs": []
    },
    {
      "cell_type": "code",
      "source": [
        "classifiers = [\n",
        "    #MLPRegressor(random_state=1, activation = 'logistic', max_iter=150),\n",
        "    RandomForestRegressor(max_depth=3, random_state=1, n_estimators=10),\n",
        "    KNeighborsRegressor(n_neighbors=3),\n",
        "    GradientBoostingRegressor(random_state=1),\n",
        "    XGBRegressor(),\n",
        "    LinearRegression()\n",
        "]"
      ],
      "metadata": {
        "id": "cwfyWf_8kRRR"
      },
      "execution_count": null,
      "outputs": []
    },
    {
      "cell_type": "code",
      "source": [
        "max_score = 1\n",
        "max_class = ''\n",
        "# iterate over classifiers\n",
        "def rmse(predictions, targets):\n",
        "    return np.sqrt(((predictions - targets) ** 2).mean())\n",
        "for name, clf in zip(names, classifiers):\n",
        "    start_time = time.time()\n",
        "    clf.fit(X_train, y_train)\n",
        "    score = 100.0 * clf.score(X_test, y_test)\n",
        "    print('Classifier = %s, Score (test, accuracy) = %.2f,' %(name, score), 'Training time = %.2f seconds' % (time.time() - start_time))\n",
        "    \n",
        "    y_pred = clf.predict(X_test)\n",
        "    mse = mean_squared_error(y_test, y_pred)\n",
        "    print('Classifier = %s, Score (test, MSE) = %.2f,' %(name, mse), 'Training time = %.2f seconds' % (time.time() - start_time))\n",
        "    \n",
        "    rmse_val = rmse(y_pred, y_test)\n",
        "    print('Classifier = %s, Score (test, rmse_val) = %.2f,' %(name, rmse_val), 'Training time = %.2f seconds' % (time.time() - start_time))\n",
        "\n",
        "    mae = mean_absolute_error(y_test, y_pred)\n",
        "    print('Classifier = %s, Score (test, MAE) = %.2f,' %(name, mae), 'Training time = %.2f seconds' % (time.time() - start_time))\n",
        "    \n",
        "    r2 = r2_score(y_test, y_pred)\n",
        "    print('Classifier = %s, Score (test, R2-error) = %.2f,' %(name, r2), 'Training time = %.2f seconds' % (time.time() - start_time))\n",
        "    \n",
        "    \n",
        "    print('---------------------------------------------------------------------------------------------------------------')\n",
        "\n",
        "\n",
        "    if r2 < max_score:\n",
        "        clf_best = clf\n",
        "        max_score = r2\n",
        "        max_class = name"
      ],
      "metadata": {
        "colab": {
          "base_uri": "https://localhost:8080/"
        },
        "id": "VzKV3x9dkTDm",
        "outputId": "6e5c21b7-701e-4fa2-bf47-cbdd38e6618c"
      },
      "execution_count": null,
      "outputs": [
        {
          "output_type": "stream",
          "name": "stdout",
          "text": [
            "Classifier = Random Forest Regressor, Score (test, accuracy) = 82.31, Training time = 0.09 seconds\n",
            "Classifier = Random Forest Regressor, Score (test, MSE) = 1261634509.93, Training time = 0.10 seconds\n",
            "Classifier = Random Forest Regressor, Score (test, rmse_val) = 35519.49, Training time = 0.10 seconds\n",
            "Classifier = Random Forest Regressor, Score (test, MAE) = 24988.29, Training time = 0.10 seconds\n",
            "Classifier = Random Forest Regressor, Score (test, R2-error) = 0.82, Training time = 0.10 seconds\n",
            "---------------------------------------------------------------------------------------------------------------\n",
            "Classifier = KNeighbours Regressor, Score (test, accuracy) = 77.01, Training time = 0.02 seconds\n",
            "Classifier = KNeighbours Regressor, Score (test, MSE) = 1639664336.71, Training time = 0.03 seconds\n",
            "Classifier = KNeighbours Regressor, Score (test, rmse_val) = 40492.77, Training time = 0.03 seconds\n",
            "Classifier = KNeighbours Regressor, Score (test, MAE) = 23292.13, Training time = 0.03 seconds\n",
            "Classifier = KNeighbours Regressor, Score (test, R2-error) = 0.77, Training time = 0.04 seconds\n",
            "---------------------------------------------------------------------------------------------------------------\n",
            "Classifier = Gradient Boosting Regressor, Score (test, accuracy) = 92.07, Training time = 0.72 seconds\n",
            "Classifier = Gradient Boosting Regressor, Score (test, MSE) = 565520745.06, Training time = 0.73 seconds\n",
            "Classifier = Gradient Boosting Regressor, Score (test, rmse_val) = 23780.68, Training time = 0.73 seconds\n",
            "Classifier = Gradient Boosting Regressor, Score (test, MAE) = 15007.08, Training time = 0.73 seconds\n",
            "Classifier = Gradient Boosting Regressor, Score (test, R2-error) = 0.92, Training time = 0.73 seconds\n",
            "---------------------------------------------------------------------------------------------------------------\n",
            "[06:18:17] WARNING: /workspace/src/objective/regression_obj.cu:152: reg:linear is now deprecated in favor of reg:squarederror.\n",
            "Classifier = XG Boost Regressor, Score (test, accuracy) = 91.64, Training time = 0.27 seconds\n",
            "Classifier = XG Boost Regressor, Score (test, MSE) = 596097356.62, Training time = 0.28 seconds\n",
            "Classifier = XG Boost Regressor, Score (test, rmse_val) = 24415.11, Training time = 0.28 seconds\n",
            "Classifier = XG Boost Regressor, Score (test, MAE) = 14898.99, Training time = 0.28 seconds\n",
            "Classifier = XG Boost Regressor, Score (test, R2-error) = 0.92, Training time = 0.28 seconds\n",
            "---------------------------------------------------------------------------------------------------------------\n",
            "Classifier = Linear Regression, Score (test, accuracy) = 80.85, Training time = 0.02 seconds\n",
            "Classifier = Linear Regression, Score (test, MSE) = 1365884979.06, Training time = 0.02 seconds\n",
            "Classifier = Linear Regression, Score (test, rmse_val) = 36957.88, Training time = 0.02 seconds\n",
            "Classifier = Linear Regression, Score (test, MAE) = 20578.45, Training time = 0.03 seconds\n",
            "Classifier = Linear Regression, Score (test, R2-error) = 0.81, Training time = 0.03 seconds\n",
            "---------------------------------------------------------------------------------------------------------------\n"
          ]
        }
      ]
    },
    {
      "cell_type": "code",
      "source": [
        "print('Best --> Classifier = %s, Score (test, r2) = %.2f' %(max_class, max_score))\n",
        "#plot the output of the various algorithms"
      ],
      "metadata": {
        "colab": {
          "base_uri": "https://localhost:8080/"
        },
        "id": "uWYfUsl1kYtM",
        "outputId": "63a650e8-447f-435c-f8ee-ce38d7bc9abd"
      },
      "execution_count": null,
      "outputs": [
        {
          "output_type": "stream",
          "name": "stdout",
          "text": [
            "Best --> Classifier = KNeighbours Regressor, Score (test, r2) = 0.77\n"
          ]
        }
      ]
    },
    {
      "cell_type": "code",
      "source": [
        "#feature importance\n",
        "#for RandomForestRegressor\n",
        "clf = RandomForestRegressor(max_depth=3, random_state=1, n_estimators=10)\n",
        "clf.fit(X_train, y_train)\n",
        "clf.feature_importances_\n",
        "#len(clf.feature_importances_)"
      ],
      "metadata": {
        "colab": {
          "base_uri": "https://localhost:8080/"
        },
        "id": "Q0av6nCnkbSi",
        "outputId": "48aa4bb4-7255-45a5-cec5-fbe0220db0da"
      },
      "execution_count": null,
      "outputs": [
        {
          "output_type": "execute_result",
          "data": {
            "text/plain": [
              "array([0.        , 0.        , 0.        , 0.        , 0.        ,\n",
              "       0.        , 0.        , 0.        , 0.        , 0.        ,\n",
              "       0.        , 0.        , 0.        , 0.        , 0.        ,\n",
              "       0.        , 0.        , 0.        , 0.        , 0.        ,\n",
              "       0.        , 0.        , 0.        , 0.        , 0.        ,\n",
              "       0.        , 0.        , 0.        , 0.        , 0.00581427,\n",
              "       0.        , 0.        , 0.        , 0.        , 0.        ,\n",
              "       0.        , 0.        , 0.        , 0.        , 0.        ,\n",
              "       0.        , 0.        , 0.4504101 , 0.        , 0.01518612,\n",
              "       0.00236704, 0.        , 0.00159166, 0.        , 0.        ,\n",
              "       0.        , 0.        , 0.01658566, 0.        , 0.        ,\n",
              "       0.        , 0.0063791 , 0.        , 0.        , 0.        ,\n",
              "       0.00265855, 0.        , 0.        , 0.        , 0.0020554 ,\n",
              "       0.00229612, 0.        , 0.        , 0.        , 0.        ,\n",
              "       0.        , 0.        , 0.        , 0.00663032, 0.        ,\n",
              "       0.00200261, 0.        , 0.        , 0.48602303])"
            ]
          },
          "metadata": {},
          "execution_count": 96
        }
      ]
    },
    {
      "cell_type": "code",
      "source": [
        "pyplot.barh(normalized_X.columns, clf.feature_importances_)"
      ],
      "metadata": {
        "colab": {
          "base_uri": "https://localhost:8080/",
          "height": 282
        },
        "id": "pLs6mcptwDyk",
        "outputId": "19ef035a-7fd4-4bc6-e44c-bd580c9021e6"
      },
      "execution_count": null,
      "outputs": [
        {
          "output_type": "execute_result",
          "data": {
            "text/plain": [
              "<BarContainer object of 79 artists>"
            ]
          },
          "metadata": {},
          "execution_count": 95
        },
        {
          "output_type": "display_data",
          "data": {
            "text/plain": [
              "<Figure size 432x288 with 1 Axes>"
            ],
            "image/png": "[encoded data removed]"
          },
          "metadata": {
            "needs_background": "light"
          }
        }
      ]
    },
    {
      "cell_type": "code",
      "source": [
        "sorted_idx = clf.feature_importances_.argsort()[70:]\n",
        "pyplot.barh(normalized_X.columns[sorted_idx], clf.feature_importances_[sorted_idx])\n",
        "pyplot.xlabel(\"Random Forest Feature Importance\")"
      ],
      "metadata": {
        "colab": {
          "base_uri": "https://localhost:8080/",
          "height": 297
        },
        "id": "3NbxGaCgzPR6",
        "outputId": "5263b365-9de2-4337-be71-23ea0daf6587"
      },
      "execution_count": null,
      "outputs": [
        {
          "output_type": "execute_result",
          "data": {
            "text/plain": [
              "Text(0.5, 0, 'Random Forest Feature Importance')"
            ]
          },
          "metadata": {},
          "execution_count": 106
        },
        {
          "output_type": "display_data",
          "data": {
            "text/plain": [
              "<Figure size 432x288 with 1 Axes>"
            ],
            "image/png": "[encoded data removed]"
          },
          "metadata": {
            "needs_background": "light"
          }
        }
      ]
    },
    {
      "cell_type": "code",
      "source": [
        "#Linear Regression\n",
        "model = LinearRegression()\n",
        "# fit the model\n",
        "model.fit(X_train, y_train)\n",
        "# get importance\n",
        "importance = model.coef_\n",
        "# summarize feature importance\n",
        "for i,v in enumerate(importance):\n",
        "\tprint('Feature: %0d, Score: %.5f' % (i,v))\n",
        "# plot feature importance\n",
        "pyplot.bar([x for x in range(len(importance))], importance)[:10]\n",
        "pyplot.show()"
      ],
      "metadata": {
        "colab": {
          "base_uri": "https://localhost:8080/",
          "height": 1000
        },
        "id": "MTkNSUCawD16",
        "outputId": "4b6747db-2683-45ed-c676-818dcd56fbcb"
      },
      "execution_count": null,
      "outputs": [
        {
          "output_type": "stream",
          "name": "stdout",
          "text": [
            "Feature: 0, Score: -3694.02672\n",
            "Feature: 1, Score: -5106.41823\n",
            "Feature: 2, Score: -784.68055\n",
            "Feature: 3, Score: 9311.96631\n",
            "Feature: 4, Score: -71840.66960\n",
            "Feature: 5, Score: -1747.07916\n",
            "Feature: 6, Score: 10618.99986\n",
            "Feature: 7, Score: 9961.09088\n",
            "Feature: 8, Score: -3055.25596\n",
            "Feature: 9, Score: -60266.17026\n",
            "Feature: 10, Score: -13379.13252\n",
            "Feature: 11, Score: -7592.40104\n",
            "Feature: 12, Score: 13398.99720\n",
            "Feature: 13, Score: 37231.77487\n",
            "Feature: 14, Score: -20509.39799\n",
            "Feature: 15, Score: 12687.47380\n",
            "Feature: 16, Score: 20094.56002\n",
            "Feature: 17, Score: 13391.29521\n",
            "Feature: 18, Score: -7102.79742\n",
            "Feature: 19, Score: 21688.71321\n",
            "Feature: 20, Score: -7498.85135\n",
            "Feature: 21, Score: -6586.19736\n",
            "Feature: 22, Score: 36498.85938\n",
            "Feature: 23, Score: 10501.84338\n",
            "Feature: 24, Score: 1319.24600\n",
            "Feature: 25, Score: -15924.42110\n",
            "Feature: 26, Score: 2795.17594\n",
            "Feature: 27, Score: -8097.06363\n",
            "Feature: 28, Score: -6041.40810\n",
            "Feature: 29, Score: 1637.57005\n",
            "Feature: 30, Score: 29773.69989\n",
            "Feature: 31, Score: 9842.35585\n",
            "Feature: 32, Score: 9674.62582\n",
            "Feature: 33, Score: -6800.76308\n",
            "Feature: 34, Score: 14034.95334\n",
            "Feature: 35, Score: -29851.71420\n",
            "Feature: 36, Score: 343.87371\n",
            "Feature: 37, Score: -4676.41235\n",
            "Feature: 38, Score: 17480.83421\n",
            "Feature: 39, Score: -17423.72602\n",
            "Feature: 40, Score: -64296.01883\n",
            "Feature: 41, Score: 95007.58159\n",
            "Feature: 42, Score: 119744.84190\n",
            "Feature: 43, Score: 40931.05451\n",
            "Feature: 44, Score: 4294367735513822.50000\n",
            "Feature: 45, Score: 7417.70533\n",
            "Feature: 46, Score: 56468.58392\n",
            "Feature: 47, Score: -1244830886058000.00000\n",
            "Feature: 48, Score: -325102892638008.87500\n",
            "Feature: 49, Score: -515224122940889.93750\n",
            "Feature: 50, Score: 1969134062950893.50000\n",
            "Feature: 51, Score: 6629224098425823.00000\n",
            "Feature: 52, Score: 3141199578510615.50000\n",
            "Feature: 53, Score: 811919543447278.25000\n",
            "Feature: 54, Score: -7534386252634506.00000\n",
            "Feature: 55, Score: 55335327166713968.00000\n",
            "Feature: 56, Score: 7159.41249\n",
            "Feature: 57, Score: 23757579366972460.00000\n",
            "Feature: 58, Score: 7919193122322095.00000\n",
            "Feature: 59, Score: -53197.38325\n",
            "Feature: 60, Score: -48676.44156\n",
            "Feature: 61, Score: 73531.73016\n",
            "Feature: 62, Score: -493.42350\n",
            "Feature: 63, Score: -15531.71187\n",
            "Feature: 64, Score: 48907.41095\n",
            "Feature: 65, Score: 15034.98799\n",
            "Feature: 66, Score: 26944.46579\n",
            "Feature: 67, Score: 2733.17984\n",
            "Feature: 68, Score: 17818.37996\n",
            "Feature: 69, Score: 6352.09189\n",
            "Feature: 70, Score: 34768.34647\n",
            "Feature: 71, Score: -75373.10013\n",
            "Feature: 72, Score: 8392.49096\n",
            "Feature: 73, Score: -2293.85274\n",
            "Feature: 74, Score: -124474427117437.45312\n",
            "Feature: 75, Score: 4232130521907079.50000\n",
            "Feature: 76, Score: -55335327166697128.00000\n",
            "Feature: 77, Score: -27717175928109364.00000\n",
            "Feature: 78, Score: -1161464790089730.75000\n"
          ]
        },
        {
          "output_type": "display_data",
          "data": {
            "text/plain": [
              "<Figure size 432x288 with 1 Axes>"
            ],
            "image/png": "[encoded data removed]"
          },
          "metadata": {
            "needs_background": "light"
          }
        }
      ]
    },
    {
      "cell_type": "code",
      "source": [
        "sorted_idx = model.coef_.argsort()[70:]\n",
        "pyplot.barh(normalized_X.columns[sorted_idx], model.coef_[sorted_idx])\n",
        "pyplot.xlabel(\"Linear Regression Feature Importance\")"
      ],
      "metadata": {
        "colab": {
          "base_uri": "https://localhost:8080/",
          "height": 297
        },
        "id": "mvKaPImt1SXS",
        "outputId": "178d3741-be1a-4495-ce5f-f540b33549dd"
      },
      "execution_count": null,
      "outputs": [
        {
          "output_type": "execute_result",
          "data": {
            "text/plain": [
              "Text(0.5, 0, 'Random Forest Feature Importance')"
            ]
          },
          "metadata": {},
          "execution_count": 110
        },
        {
          "output_type": "display_data",
          "data": {
            "text/plain": [
              "<Figure size 432x288 with 1 Axes>"
            ],
            "image/png": "[encoded data removed]"
          },
          "metadata": {
            "needs_background": "light"
          }
        }
      ]
    },
    {
      "cell_type": "code",
      "source": [
        "#feature importance\n",
        "\n",
        "clf = GradientBoostingRegressor(random_state=1)\n",
        "clf.fit(X_train, y_train)\n",
        "clf.feature_importances_\n",
        "#len(clf.feature_importances_)"
      ],
      "metadata": {
        "colab": {
          "base_uri": "https://localhost:8080/"
        },
        "id": "roTKzMnB1Cca",
        "outputId": "9a1878b0-2765-4aa9-d3fd-67bfdb9ceb2e"
      },
      "execution_count": null,
      "outputs": [
        {
          "output_type": "execute_result",
          "data": {
            "text/plain": [
              "array([2.83605639e-03, 0.00000000e+00, 1.24383325e-04, 6.36284617e-04,\n",
              "       0.00000000e+00, 6.00998264e-05, 1.28895602e-03, 4.26798341e-03,\n",
              "       7.34681037e-04, 0.00000000e+00, 0.00000000e+00, 3.04992165e-04,\n",
              "       3.47337812e-04, 8.90047399e-06, 8.04053473e-04, 0.00000000e+00,\n",
              "       5.61539369e-05, 5.32260685e-05, 0.00000000e+00, 5.66974914e-05,\n",
              "       2.94619073e-03, 0.00000000e+00, 2.81244942e-03, 1.43061497e-03,\n",
              "       2.14681418e-05, 0.00000000e+00, 0.00000000e+00, 1.83699490e-03,\n",
              "       0.00000000e+00, 1.48538270e-02, 1.06182687e-03, 1.02632218e-02,\n",
              "       5.25753973e-03, 8.37228028e-05, 4.41012718e-04, 0.00000000e+00,\n",
              "       0.00000000e+00, 5.68437198e-07, 2.19549388e-03, 8.83666992e-05,\n",
              "       5.47244130e-03, 1.73448472e-02, 2.43447574e-01, 6.62398834e-03,\n",
              "       1.20688835e-02, 1.19058237e-02, 3.68482986e-03, 2.03808374e-02,\n",
              "       3.24697362e-04, 4.29359119e-03, 4.31960502e-03, 2.54413548e-03,\n",
              "       1.35164619e-02, 0.00000000e+00, 1.71169517e-02, 6.38540790e-05,\n",
              "       1.38767262e-04, 7.08895944e-04, 0.00000000e+00, 1.52658217e-04,\n",
              "       4.01134940e-03, 8.15717593e-04, 1.54081583e-03, 3.18174686e-03,\n",
              "       3.59197019e-02, 3.94576278e-03, 1.29203330e-03, 1.29291112e-03,\n",
              "       1.06124249e-04, 0.00000000e+00, 3.18048343e-03, 2.46214681e-04,\n",
              "       0.00000000e+00, 3.51359489e-03, 5.88090168e-05, 1.60258781e-02,\n",
              "       3.50774276e-04, 1.91949570e-03, 5.03616639e-01])"
            ]
          },
          "metadata": {},
          "execution_count": 112
        }
      ]
    },
    {
      "cell_type": "code",
      "source": [
        "pyplot.barh(normalized_X.columns, clf.feature_importances_)"
      ],
      "metadata": {
        "colab": {
          "base_uri": "https://localhost:8080/",
          "height": 282
        },
        "id": "Qdyl8_-92Ba6",
        "outputId": "c84028e1-59c5-4943-f51f-3aa392ac7658"
      },
      "execution_count": null,
      "outputs": [
        {
          "output_type": "execute_result",
          "data": {
            "text/plain": [
              "<BarContainer object of 79 artists>"
            ]
          },
          "metadata": {},
          "execution_count": 113
        },
        {
          "output_type": "display_data",
          "data": {
            "text/plain": [
              "<Figure size 432x288 with 1 Axes>"
            ],
            "image/png": "[encoded data removed]"
          },
          "metadata": {
            "needs_background": "light"
          }
        }
      ]
    },
    {
      "cell_type": "code",
      "source": [
        "sorted_idx = clf.feature_importances_.argsort()[70:]\n",
        "pyplot.barh(normalized_X.columns[sorted_idx], clf.feature_importances_[sorted_idx])\n",
        "pyplot.xlabel(\"Random Forest Feature Importance\")"
      ],
      "metadata": {
        "colab": {
          "base_uri": "https://localhost:8080/",
          "height": 297
        },
        "id": "sQvUjWfX2_un",
        "outputId": "995d48f7-944f-4589-c54d-3b766aff3289"
      },
      "execution_count": null,
      "outputs": [
        {
          "output_type": "execute_result",
          "data": {
            "text/plain": [
              "Text(0.5, 0, 'Random Forest Feature Importance')"
            ]
          },
          "metadata": {},
          "execution_count": 114
        },
        {
          "output_type": "display_data",
          "data": {
            "text/plain": [
              "<Figure size 432x288 with 1 Axes>"
            ],
            "image/png": "[encoded data removed]"
          },
          "metadata": {
            "needs_background": "light"
          }
        }
      ]
    },
    {
      "cell_type": "code",
      "source": [
        "\n",
        "clf = XGBRegressor()\n",
        "clf.fit(X_train, y_train)\n",
        "clf.feature_importances_\n",
        "#len(clf.feature_importances_)"
      ],
      "metadata": {
        "colab": {
          "base_uri": "https://localhost:8080/"
        },
        "id": "Nb0nPM143F49",
        "outputId": "6a5898a9-6187-4d45-9dc1-fa5f456621fc"
      },
      "execution_count": null,
      "outputs": [
        {
          "output_type": "stream",
          "name": "stdout",
          "text": [
            "[06:43:23] WARNING: /workspace/src/objective/regression_obj.cu:152: reg:linear is now deprecated in favor of reg:squarederror.\n"
          ]
        },
        {
          "output_type": "execute_result",
          "data": {
            "text/plain": [
              "array([6.2412801e-03, 0.0000000e+00, 1.9323798e-03, 7.3001552e-03,\n",
              "       0.0000000e+00, 3.5930567e-05, 5.1853230e-04, 6.4081349e-03,\n",
              "       1.8916592e-03, 4.9685659e-03, 0.0000000e+00, 7.0686400e-04,\n",
              "       7.4331685e-05, 1.0221751e-02, 1.9242787e-03, 0.0000000e+00,\n",
              "       1.1365425e-03, 6.3814029e-02, 1.4854147e-03, 7.8878889e-04,\n",
              "       1.8069344e-02, 5.7552796e-04, 9.8162387e-03, 6.6729477e-03,\n",
              "       1.5783365e-03, 0.0000000e+00, 0.0000000e+00, 1.8490680e-02,\n",
              "       0.0000000e+00, 7.0052542e-02, 2.2957039e-03, 3.0146357e-02,\n",
              "       5.8557458e-02, 0.0000000e+00, 3.3335474e-03, 2.3128998e-03,\n",
              "       0.0000000e+00, 0.0000000e+00, 4.8250342e-03, 0.0000000e+00,\n",
              "       1.7912321e-02, 7.4654561e-03, 2.3308730e-01, 4.5572994e-03,\n",
              "       8.6376099e-03, 1.2503746e-02, 3.0384245e-03, 1.2785253e-02,\n",
              "       1.8850532e-03, 2.5986156e-03, 3.7812078e-03, 5.6998516e-03,\n",
              "       1.1701951e-02, 0.0000000e+00, 1.0261299e-02, 2.7024087e-03,\n",
              "       0.0000000e+00, 5.2496633e-03, 0.0000000e+00, 1.9046004e-03,\n",
              "       3.0968511e-02, 2.2750702e-02, 7.7787363e-03, 4.2463564e-03,\n",
              "       3.2579400e-02, 1.9681596e-03, 2.4159139e-03, 3.2669622e-03,\n",
              "       0.0000000e+00, 0.0000000e+00, 4.0329611e-03, 1.0105871e-03,\n",
              "       0.0000000e+00, 1.4634443e-03, 1.3639366e-03, 2.1048062e-02,\n",
              "       0.0000000e+00, 9.6153235e-03, 1.7354354e-01], dtype=float32)"
            ]
          },
          "metadata": {},
          "execution_count": 115
        }
      ]
    },
    {
      "cell_type": "code",
      "source": [
        "pyplot.barh(normalized_X.columns, clf.feature_importances_)"
      ],
      "metadata": {
        "colab": {
          "base_uri": "https://localhost:8080/",
          "height": 282
        },
        "id": "TVNsHRkj3hO3",
        "outputId": "6b41b98f-c585-4564-ad55-2700b21d5aa3"
      },
      "execution_count": null,
      "outputs": [
        {
          "output_type": "execute_result",
          "data": {
            "text/plain": [
              "<BarContainer object of 79 artists>"
            ]
          },
          "metadata": {},
          "execution_count": 116
        },
        {
          "output_type": "display_data",
          "data": {
            "text/plain": [
              "<Figure size 432x288 with 1 Axes>"
            ],
            "image/png": "[encoded data removed]"
          },
          "metadata": {
            "needs_background": "light"
          }
        }
      ]
    },
    {
      "cell_type": "code",
      "source": [
        "sorted_idx = clf.feature_importances_.argsort()[70:]\n",
        "pyplot.barh(normalized_X.columns[sorted_idx], clf.feature_importances_[sorted_idx])\n",
        "pyplot.xlabel(\"Random Forest Feature Importance\")"
      ],
      "metadata": {
        "colab": {
          "base_uri": "https://localhost:8080/",
          "height": 297
        },
        "id": "LIFwQ7Vp3j4V",
        "outputId": "c6a9374e-5ba7-42d6-8885-3d4f4821399f"
      },
      "execution_count": null,
      "outputs": [
        {
          "output_type": "execute_result",
          "data": {
            "text/plain": [
              "Text(0.5, 0, 'Random Forest Feature Importance')"
            ]
          },
          "metadata": {},
          "execution_count": 117
        },
        {
          "output_type": "display_data",
          "data": {
            "text/plain": [
              "<Figure size 432x288 with 1 Axes>"
            ],
            "image/png": "[encoded data removed]"
          },
          "metadata": {
            "needs_background": "light"
          }
        }
      ]
    },
    {
      "cell_type": "code",
      "source": [
        "seaborn.heatmap(dataframe[:10])"
      ],
      "metadata": {
        "id": "Rzp-V4E93mYt",
        "colab": {
          "base_uri": "https://localhost:8080/",
          "height": 345
        },
        "outputId": "31bf09a3-c718-42d3-b1a7-df39a377dd77"
      },
      "execution_count": null,
      "outputs": [
        {
          "output_type": "execute_result",
          "data": {
            "text/plain": [
              "<matplotlib.axes._subplots.AxesSubplot at 0x7f166089d9d0>"
            ]
          },
          "metadata": {},
          "execution_count": 11
        },
        {
          "output_type": "display_data",
          "data": {
            "text/plain": [
              "<Figure size 432x288 with 2 Axes>"
            ],
            "image/png": "[encoded data removed]"
          },
          "metadata": {
            "needs_background": "light"
          }
        }
      ]
    },
    {
      "cell_type": "code",
      "source": [
        "import seaborn as sns\n",
        "\n",
        "Var_Corr = dataframe.iloc[: , :10].corr()\n",
        "# plot the heatmap and annotation on it\n",
        "sns.heatmap(Var_Corr, xticklabels=Var_Corr.columns, yticklabels=Var_Corr.columns)"
      ],
      "metadata": {
        "colab": {
          "base_uri": "https://localhost:8080/",
          "height": 348
        },
        "id": "z5-HgN_aAJ2_",
        "outputId": "f2adea58-e01b-4c13-df09-51aeb809b339"
      },
      "execution_count": null,
      "outputs": [
        {
          "output_type": "execute_result",
          "data": {
            "text/plain": [
              "<matplotlib.axes._subplots.AxesSubplot at 0x7f165749d550>"
            ]
          },
          "metadata": {},
          "execution_count": 17
        },
        {
          "output_type": "display_data",
          "data": {
            "text/plain": [
              "<Figure size 432x288 with 2 Axes>"
            ],
            "image/png": "[encoded data removed]"
          },
          "metadata": {
            "needs_background": "light"
          }
        }
      ]
    },
    {
      "cell_type": "code",
      "source": [
        ""
      ],
      "metadata": {
        "id": "7CrJzaXiBBOc"
      },
      "execution_count": null,
      "outputs": []
    }
  ]
}